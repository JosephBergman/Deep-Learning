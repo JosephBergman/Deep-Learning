{
 "cells": [
  {
   "cell_type": "markdown",
   "metadata": {},
   "source": [
    "# Introduction to Keras"
   ]
  },
  {
   "cell_type": "markdown",
   "metadata": {},
   "source": [
    "---\n",
    "## Binary Classification\n",
    "\n",
    "Start with the model from the textbook."
   ]
  },
  {
   "cell_type": "code",
   "execution_count": 1,
   "metadata": {},
   "outputs": [
    {
     "name": "stderr",
     "output_type": "stream",
     "text": [
      "/Users/jtbergman/miniconda2/envs/ml/lib/python3.6/site-packages/h5py/__init__.py:34: FutureWarning: Conversion of the second argument of issubdtype from `float` to `np.floating` is deprecated. In future, it will be treated as `np.float64 == np.dtype(float).type`.\n",
      "  from ._conv import register_converters as _register_converters\n",
      "Using TensorFlow backend.\n"
     ]
    }
   ],
   "source": [
    "from keras.datasets import imdb\n",
    "\n",
    "# Loads the data, only keeps the 10,000 most frequently occuring words.\n",
    "(train_data, train_labels), (test_data, test_labels) = imdb.load_data(num_words=10000) "
   ]
  },
  {
   "cell_type": "markdown",
   "metadata": {},
   "source": [
    "Let's write a function to convert integer sequences into reviews."
   ]
  },
  {
   "cell_type": "code",
   "execution_count": 5,
   "metadata": {},
   "outputs": [
    {
     "name": "stdout",
     "output_type": "stream",
     "text": [
      "Review\n",
      "~~~~~~\n",
      "? this film was just brilliant casting location scenery story direction everyone's really suited the part they played and you could just imagine being there robert ? is an amazing actor and now the same being director ? father came from the same scottish island as myself so i loved the fact there was a real connection with this film the witty remarks throughout the film were great it was just brilliant so much that i bought the film as soon as it was released for ? and would recommend it to everyone to watch and the fly fishing was amazing really cried at the end it was so sad and you know what they say if you cry at a film it must have been good and this definitely was also ? to the two little boy's that played the ? of norman and paul they were just brilliant children are often left out of the ? list i think because the stars that play them all grown up are such a big profile for the whole film but these children are amazing and should be praised for what they have done don't you think the whole story was so lovely because it was true and was someone's life after all that was shared with us all\n",
      "\n",
      "Sentiment\n",
      "~~~~~~~~~\n",
      "1\n"
     ]
    }
   ],
   "source": [
    "def sequence_to_text(sequence):\n",
    "    \"\"\"Converts an integer sequence into the actual review text.\"\"\"\n",
    "    word_index = imdb.get_word_index()\n",
    "    reverse_index = {value: key for (key, value) in word_index.items()}\n",
    "    return ' '.join([reverse_index.get(i - 3, '?') for i in sequence])\n",
    "\n",
    "print(\"Review\")\n",
    "print(\"~~~~~~\")\n",
    "print(sequence_to_text(train_data[0]), end=\"\\n\\n\")\n",
    "\n",
    "print(\"Sentiment\")\n",
    "print(\"~~~~~~~~~\")\n",
    "print(train_labels[0])"
   ]
  },
  {
   "cell_type": "markdown",
   "metadata": {},
   "source": [
    "We have to prepare our data to be fed into a neural network."
   ]
  },
  {
   "cell_type": "code",
   "execution_count": 6,
   "metadata": {
    "collapsed": true
   },
   "outputs": [],
   "source": [
    "import numpy as np \n",
    "\n",
    "def vectorize_sequences(sequences, dimension=10000):\n",
    "    results = np.zeros((len(sequences), dimension))\n",
    "    for i, sequence in enumerate(sequences):\n",
    "        results[i, sequence] = 1\n",
    "    return results\n",
    "\n",
    "# Vectorize our input data \n",
    "x_train = vectorize_sequences(train_data)\n",
    "x_test = vectorize_sequences(test_data)\n",
    "\n",
    "# Vectorize our label data as well \n",
    "y_train = np.asarray(train_labels).astype('float32')\n",
    "y_test = np.asarray(test_labels).astype('float32')"
   ]
  },
  {
   "cell_type": "markdown",
   "metadata": {},
   "source": [
    "Now, let's train a first model"
   ]
  },
  {
   "cell_type": "code",
   "execution_count": 7,
   "metadata": {},
   "outputs": [],
   "source": [
    "from keras import models \n",
    "from keras import layers \n",
    "\n",
    "model = models.Sequential() \n",
    "model.add(layers.Dense(16, activation='relu', input_shape=(10000,)))\n",
    "model.add(layers.Dense(16, activation='relu'))\n",
    "model.add(layers.Dense(1, activation='sigmoid'))"
   ]
  },
  {
   "cell_type": "markdown",
   "metadata": {},
   "source": [
    "We can use keras to see what our model looks like"
   ]
  },
  {
   "cell_type": "code",
   "execution_count": 8,
   "metadata": {},
   "outputs": [
    {
     "name": "stdout",
     "output_type": "stream",
     "text": [
      "_________________________________________________________________\n",
      "Layer (type)                 Output Shape              Param #   \n",
      "=================================================================\n",
      "dense_1 (Dense)              (None, 16)                160016    \n",
      "_________________________________________________________________\n",
      "dense_2 (Dense)              (None, 16)                272       \n",
      "_________________________________________________________________\n",
      "dense_3 (Dense)              (None, 1)                 17        \n",
      "=================================================================\n",
      "Total params: 160,305\n",
      "Trainable params: 160,305\n",
      "Non-trainable params: 0\n",
      "_________________________________________________________________\n"
     ]
    }
   ],
   "source": [
    "model.summary()"
   ]
  },
  {
   "cell_type": "markdown",
   "metadata": {},
   "source": [
    "Now let's pick our optimizer, loss, and metrics. "
   ]
  },
  {
   "cell_type": "code",
   "execution_count": 15,
   "metadata": {
    "collapsed": true
   },
   "outputs": [],
   "source": [
    "model.compile(optimizer='rmsprop',\n",
    "              loss='binary_crossentropy',\n",
    "              metrics=['accuracy'])"
   ]
  },
  {
   "cell_type": "markdown",
   "metadata": {},
   "source": [
    "Let's create a training set and validation set."
   ]
  },
  {
   "cell_type": "code",
   "execution_count": 17,
   "metadata": {
    "collapsed": true
   },
   "outputs": [],
   "source": [
    "# Separate input data\n",
    "x_val = x_train[:10000]\n",
    "x_train_partial = x_train[10000:]\n",
    "\n",
    "# Separate labels \n",
    "y_val = y_train[:10000]\n",
    "y_train_partial = y_train[10000:]"
   ]
  },
  {
   "cell_type": "markdown",
   "metadata": {},
   "source": [
    "Finally, we can train our model."
   ]
  },
  {
   "cell_type": "code",
   "execution_count": 18,
   "metadata": {},
   "outputs": [
    {
     "name": "stdout",
     "output_type": "stream",
     "text": [
      "Train on 15000 samples, validate on 10000 samples\n",
      "Epoch 1/20\n",
      "15000/15000 [==============================] - 3s 182us/step - loss: 0.4494 - acc: 0.8174 - val_loss: 0.3169 - val_acc: 0.8835\n",
      "Epoch 2/20\n",
      "15000/15000 [==============================] - 2s 135us/step - loss: 0.2390 - acc: 0.9175 - val_loss: 0.2759 - val_acc: 0.8910\n",
      "Epoch 3/20\n",
      "15000/15000 [==============================] - 2s 144us/step - loss: 0.1709 - acc: 0.9397 - val_loss: 0.2792 - val_acc: 0.8901\n",
      "Epoch 4/20\n",
      "15000/15000 [==============================] - 2s 132us/step - loss: 0.1306 - acc: 0.9549 - val_loss: 0.3569 - val_acc: 0.8650\n",
      "Epoch 5/20\n",
      "15000/15000 [==============================] - 2s 135us/step - loss: 0.1008 - acc: 0.9668 - val_loss: 0.3342 - val_acc: 0.8794\n",
      "Epoch 6/20\n",
      "15000/15000 [==============================] - 2s 135us/step - loss: 0.0762 - acc: 0.9763 - val_loss: 0.3707 - val_acc: 0.8790\n",
      "Epoch 7/20\n",
      "15000/15000 [==============================] - 2s 135us/step - loss: 0.0593 - acc: 0.9815 - val_loss: 0.4105 - val_acc: 0.8744\n",
      "Epoch 8/20\n",
      "15000/15000 [==============================] - 2s 135us/step - loss: 0.0440 - acc: 0.9867 - val_loss: 0.4609 - val_acc: 0.8697\n",
      "Epoch 9/20\n",
      "15000/15000 [==============================] - 2s 157us/step - loss: 0.0339 - acc: 0.9899 - val_loss: 0.5152 - val_acc: 0.8657\n",
      "Epoch 10/20\n",
      "15000/15000 [==============================] - 3s 181us/step - loss: 0.0243 - acc: 0.9935 - val_loss: 0.5530 - val_acc: 0.8673\n",
      "Epoch 11/20\n",
      "15000/15000 [==============================] - 2s 141us/step - loss: 0.0168 - acc: 0.9967 - val_loss: 0.6096 - val_acc: 0.8689\n",
      "Epoch 12/20\n",
      "15000/15000 [==============================] - 2s 138us/step - loss: 0.0112 - acc: 0.9980 - val_loss: 0.7012 - val_acc: 0.8589\n",
      "Epoch 13/20\n",
      "15000/15000 [==============================] - 2s 141us/step - loss: 0.0081 - acc: 0.9985 - val_loss: 0.7135 - val_acc: 0.8652\n",
      "Epoch 14/20\n",
      "15000/15000 [==============================] - 2s 138us/step - loss: 0.0058 - acc: 0.9993 - val_loss: 0.7704 - val_acc: 0.8622\n",
      "Epoch 15/20\n",
      "15000/15000 [==============================] - 2s 136us/step - loss: 0.0034 - acc: 0.9995 - val_loss: 0.8215 - val_acc: 0.8629\n",
      "Epoch 16/20\n",
      "15000/15000 [==============================] - 2s 144us/step - loss: 0.0026 - acc: 0.9995 - val_loss: 0.8623 - val_acc: 0.8623\n",
      "Epoch 17/20\n",
      "15000/15000 [==============================] - 2s 137us/step - loss: 0.0025 - acc: 0.9996 - val_loss: 0.9121 - val_acc: 0.8611\n",
      "Epoch 18/20\n",
      "15000/15000 [==============================] - 2s 137us/step - loss: 0.0020 - acc: 0.9995 - val_loss: 0.9491 - val_acc: 0.8609\n",
      "Epoch 19/20\n",
      "15000/15000 [==============================] - 2s 137us/step - loss: 8.6997e-04 - acc: 0.9998 - val_loss: 0.9871 - val_acc: 0.8597\n",
      "Epoch 20/20\n",
      "15000/15000 [==============================] - 2s 139us/step - loss: 6.1299e-04 - acc: 0.9999 - val_loss: 1.0279 - val_acc: 0.8575\n"
     ]
    }
   ],
   "source": [
    "history = model.fit(x_train_partial,\n",
    "                    y_train_partial,\n",
    "                    epochs=20,\n",
    "                    batch_size=256,\n",
    "                    validation_data=(x_val,y_val))"
   ]
  },
  {
   "cell_type": "markdown",
   "metadata": {},
   "source": [
    "Let's take a look at the training and validation loss."
   ]
  },
  {
   "cell_type": "code",
   "execution_count": 20,
   "metadata": {},
   "outputs": [
    {
     "data": {
      "image/png": "[encoded data removed]",
      "text/plain": [
       "<matplotlib.figure.Figure at 0x1827712c50>"
      ]
     },
     "metadata": {},
     "output_type": "display_data"
    }
   ],
   "source": [
    "import matplotlib.pyplot as plt \n",
    "\n",
    "training_loss = history.history['loss']\n",
    "validation_loss = history.history['val_loss']\n",
    "\n",
    "epochs = range(1, len(training_loss) + 1)\n",
    "\n",
    "plt.plot(epochs, training_loss, 'g', label='Training loss')\n",
    "plt.plot(epochs, validation_loss, 'b', label='Validation loss')\n",
    "plt.title('Training and validation loss')\n",
    "plt.xlabel('Epochs')\n",
    "plt.ylabel('Loss')\n",
    "plt.legend()\n",
    "plt.show()"
   ]
  },
  {
   "cell_type": "code",
   "execution_count": 21,
   "metadata": {},
   "outputs": [
    {
     "data": {
      "image/png": "[encoded data removed]",
      "text/plain": [
       "<matplotlib.figure.Figure at 0x11dc49f60>"
      ]
     },
     "metadata": {},
     "output_type": "display_data"
    }
   ],
   "source": [
    "import matplotlib.pyplot as plt \n",
    "\n",
    "training_acc = history.history['acc']\n",
    "validation_acc = history.history['val_acc']\n",
    "\n",
    "epochs = range(1, len(training_loss) + 1)\n",
    "\n",
    "plt.plot(epochs, training_acc, 'g', label='Training accuracy')\n",
    "plt.plot(epochs, validation_acc, 'b', label='Validation accuracy')\n",
    "plt.title('Training and validation accuracy')\n",
    "plt.xlabel('Epochs')\n",
    "plt.ylabel('Accuracy')\n",
    "plt.legend()\n",
    "plt.show()"
   ]
  },
  {
   "cell_type": "markdown",
   "metadata": {},
   "source": [
    "Now, let's retrain a model using all of the training data. "
   ]
  },
  {
   "cell_type": "code",
   "execution_count": 23,
   "metadata": {},
   "outputs": [
    {
     "name": "stdout",
     "output_type": "stream",
     "text": [
      "Epoch 1/3\n",
      "25000/25000 [==============================] - 3s 116us/step - loss: 0.3915 - acc: 0.8493\n",
      "Epoch 2/3\n",
      "25000/25000 [==============================] - 2s 98us/step - loss: 0.2244 - acc: 0.9175\n",
      "Epoch 3/3\n",
      "25000/25000 [==============================] - 2s 98us/step - loss: 0.1755 - acc: 0.9357\n",
      "25000/25000 [==============================] - 2s 70us/step\n",
      "Loss:  0.2988529191303253\n",
      "Accuracy:  0.88208\n"
     ]
    }
   ],
   "source": [
    "model = models.Sequential() \n",
    "model.add(layers.Dense(16, activation='relu', input_shape=(10000,)))\n",
    "model.add(layers.Dense(16, activation='relu'))\n",
    "model.add(layers.Dense(1, activation='sigmoid'))\n",
    "\n",
    "model.compile(optimizer='rmsprop',\n",
    "              loss='binary_crossentropy',\n",
    "              metrics=['accuracy'])\n",
    "\n",
    "model.fit(x_train, y_train, epochs=3, batch_size=256)\n",
    "\n",
    "results = model.evaluate(x_test, y_test)\n",
    "print(\"Loss: \", results[0])\n",
    "print(\"Accuracy: \", results[1])"
   ]
  },
  {
   "cell_type": "code",
   "execution_count": null,
   "metadata": {
    "collapsed": true
   },
   "outputs": [],
   "source": []
  }
 ],
 "metadata": {
  "kernelspec": {
   "display_name": "Python 3",
   "language": "python",
   "name": "python3"
  },
  "language_info": {
   "codemirror_mode": {
    "name": "ipython",
    "version": 3
   },
   "file_extension": ".py",
   "mimetype": "text/x-python",
   "name": "python",
   "nbconvert_exporter": "python",
   "pygments_lexer": "ipython3",
   "version": "3.6.3"
  }
 },
 "nbformat": 4,
 "nbformat_minor": 2
}
