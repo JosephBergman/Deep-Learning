{
 "cells": [
  {
   "cell_type": "markdown",
   "metadata": {},
   "source": [
    "# Introduction to Keras"
   ]
  },
  {
   "cell_type": "markdown",
   "metadata": {},
   "source": [
    "---\n",
    "## Introduction\n",
    "\n",
    "In this blog post, we are going to take a first look at [Keras](https://keras.io/). \n",
    "\n",
    "> Keras is a high-level neural networks API, written in Python and capable of running on top of TensorFlow, CNTK, or Theano. It was developed with a focus on enabling fast experimentation. Being able to go from idea to result with the least possible delay is key to doing good research. \n",
    "\n",
    "The most important idea here is that Keras enables fast experimentation."
   ]
  },
  {
   "cell_type": "markdown",
   "metadata": {},
   "source": [
    "---\n",
    "## Problem \n",
    "In this blog post, we are going to use Keras to solve two problems. \n",
    "\n",
    "### Classifying MNIST \n",
    "The MNIST dataset is... \n",
    "\n",
    "### Classifying Fashion-MNIST \n",
    "Fashion-MNIST is a drop in replacement for MNIST..."
   ]
  },
  {
   "cell_type": "markdown",
   "metadata": {},
   "source": [
    "---\n",
    "## Classifying MNIST\n",
    "\n",
    "### Step 1: Loading the Data\n",
    "Keras comes prepackaged with MNIST, so it is incredibly simple to load."
   ]
  },
  {
   "cell_type": "code",
   "execution_count": 1,
   "metadata": {},
   "outputs": [
    {
     "name": "stderr",
     "output_type": "stream",
     "text": [
      "/Users/jtbergman/miniconda2/envs/ml/lib/python3.6/site-packages/h5py/__init__.py:34: FutureWarning: Conversion of the second argument of issubdtype from `float` to `np.floating` is deprecated. In future, it will be treated as `np.float64 == np.dtype(float).type`.\n",
      "  from ._conv import register_converters as _register_converters\n",
      "Using TensorFlow backend.\n"
     ]
    }
   ],
   "source": [
    "from keras.datasets import mnist\n",
    "\n",
    "(training_data, training_labels), (test_data, test_labels) = mnist.load_data()"
   ]
  },
  {
   "cell_type": "markdown",
   "metadata": {},
   "source": [
    "Let's take a look at the images to see what we're working with."
   ]
  },
  {
   "cell_type": "code",
   "execution_count": 40,
   "metadata": {},
   "outputs": [
    {
     "data": {
      "image/png": "[encoded data removed]",
      "text/plain": [
       "<matplotlib.figure.Figure at 0x182f2fc9b0>"
      ]
     },
     "metadata": {},
     "output_type": "display_data"
    }
   ],
   "source": [
    "import matplotlib.pyplot as plt\n",
    "\n",
    "# Feel free to change this\n",
    "image = 0\n",
    "\n",
    "# Plot the image and its \"true\" value\n",
    "plt.clf()\n",
    "plt.imshow(training_data[image], cmap=plt.cm.gray)\n",
    "plt.title(\"Image: \" + str(training_labels[image]))\n",
    "plt.show()"
   ]
  },
  {
   "cell_type": "markdown",
   "metadata": {},
   "source": [
    "### Step 2: Preparing the Data\n",
    "\n",
    "#### Reshaping\n",
    "Currently, the training data has shape `(60000, 28, 28)`. There are 60,000 training images and 10,000 test images. Each image has shape `(28, 28)`. We are going to reshape the images into tensors with shape `(784,)` so they can be fed directly into a neural network."
   ]
  },
  {
   "cell_type": "code",
   "execution_count": 44,
   "metadata": {
    "collapsed": true
   },
   "outputs": [],
   "source": [
    "import numpy as np \n",
    "\n",
    "training_data = training_data.reshape((60000, 28*28))\n",
    "test_data = test_data.reshape((10000, 28*28))"
   ]
  },
  {
   "cell_type": "markdown",
   "metadata": {},
   "source": [
    "#### Scaling\n",
    "Each image is a grayscale image with pixel values ranging from 0 to 255. A pixel value of 0 is completely black and a pixel value of 255 is completely white. Neural networks tends to learn better on a smaller range of values, so we are going to divide all of our examples by 255 to ensure they take a value between 0 and 1."
   ]
  },
  {
   "cell_type": "code",
   "execution_count": 45,
   "metadata": {
    "collapsed": true
   },
   "outputs": [],
   "source": [
    "training_data = training_data.astype('float32') / 255\n",
    "test_data = test_data.astype('float32') / 255"
   ]
  },
  {
   "cell_type": "markdown",
   "metadata": {},
   "source": [
    "#### Encoding\n",
    "Our labels are currently represented as integer values ranging from 0 to 9. We are going to one-hot encode these values so they can be used with a neural network. One-hot encoding will turn each example into a 10-dimensional binary vector representing the images class. \n",
    "\n",
    "For example, an image with label 0 will be represented as:\n",
    "\n",
    "$$[1, 0, 0, 0, 0, 0, 0, 0, 0, 0]$$\n",
    "\n",
    "and an image with label 5 will be represented as: \n",
    "\n",
    "$$[0, 0, 0, 0, 0, 1, 0, 0, 0, 0]$$"
   ]
  },
  {
   "cell_type": "code",
   "execution_count": 54,
   "metadata": {
    "collapsed": true
   },
   "outputs": [],
   "source": [
    "from keras.utils import to_categorical\n",
    "\n",
    "training_labels = to_categorical(training_labels)\n",
    "test_labels = to_categorical(test_labels)"
   ]
  },
  {
   "cell_type": "markdown",
   "metadata": {},
   "source": [
    "#### Training, Validation, and Test Sets\n",
    "Ultimately, our goal is to create a neural network that can correctly classify digits it has never seen before. To test our network's ability to do this, it is important to leave some data out during training. After we have trained our network, we can then run it on the unseen data and see how well it performs. \n",
    "\n",
    "So why do we need a training, validation, and test set? Shouldn't just a training and test set be enough? Neural networks have lots of tunable parameters, and training them is just as much of an art as it is a science. That means we have to do some experimentation. We will train our network on the training set, then see how well it performs on the validation set. If the performance is significantly worse, we have to go back and modify our parameters.\n",
    "\n",
    "However, each time we run our network on the validation set, we _leak_ some information about it into our neural network – which means it isn't really \"unseen\" data anymore. By having three separate sets, we can train our network on the training set, estimate its performance on unseen data with the validation set, and determine its performance on truly unseen data with the test set.\n",
    "\n",
    "Neural networks, especially deep neural networks, will learn better mappings if they have more data. Becaue of this, our training data will typically be our largest dataset, and our validation and test sets will  be just large enough to ensure they are representative of the data distribution.\n",
    "\n",
    "In his course on Coursera, Andrew Ng says that a 60/20/20 split may have been common in the early days, but with truly big data (1,000,000 samples) you can have splits as large as 98/1/1. We only have 60,000 training examples and 10,000 test examples, so we will take a less extreme split."
   ]
  },
  {
   "cell_type": "code",
   "execution_count": 56,
   "metadata": {
    "collapsed": true
   },
   "outputs": [],
   "source": [
    "# 10,000 validation images and 50,000 training images\n",
    "x_val = training_data[:10000]\n",
    "x_train = training_data[10000:]\n",
    "\n",
    "# Use the same split for the labels\n",
    "y_val = training_labels[:10000]\n",
    "y_train = training_labels[10000:]"
   ]
  },
  {
   "cell_type": "markdown",
   "metadata": {},
   "source": [
    "### Step 3: Creating the Neural Network"
   ]
  },
  {
   "cell_type": "code",
   "execution_count": 57,
   "metadata": {},
   "outputs": [
    {
     "name": "stdout",
     "output_type": "stream",
     "text": [
      "Train on 50000 samples, validate on 10000 samples\n",
      "Epoch 1/20\n",
      "50000/50000 [==============================] - 1s 21us/step - loss: 1.8859 - acc: 0.4783 - val_loss: 1.4149 - val_acc: 0.7201\n",
      "Epoch 2/20\n",
      "50000/50000 [==============================] - 1s 14us/step - loss: 1.1072 - acc: 0.7725 - val_loss: 0.8765 - val_acc: 0.8127\n",
      "Epoch 3/20\n",
      "50000/50000 [==============================] - 1s 13us/step - loss: 0.7642 - acc: 0.8288 - val_loss: 0.6693 - val_acc: 0.8471\n",
      "Epoch 4/20\n",
      "50000/50000 [==============================] - 1s 14us/step - loss: 0.6193 - acc: 0.8500 - val_loss: 0.5683 - val_acc: 0.8597\n",
      "Epoch 5/20\n",
      "50000/50000 [==============================] - 1s 13us/step - loss: 0.5419 - acc: 0.8633 - val_loss: 0.5077 - val_acc: 0.8700\n",
      "Epoch 6/20\n",
      "50000/50000 [==============================] - 1s 15us/step - loss: 0.4938 - acc: 0.8722 - val_loss: 0.4686 - val_acc: 0.8764\n",
      "Epoch 7/20\n",
      "50000/50000 [==============================] - 1s 13us/step - loss: 0.4608 - acc: 0.8785 - val_loss: 0.4407 - val_acc: 0.8818\n",
      "Epoch 8/20\n",
      "50000/50000 [==============================] - 1s 14us/step - loss: 0.4367 - acc: 0.8828 - val_loss: 0.4202 - val_acc: 0.8882\n",
      "Epoch 9/20\n",
      "50000/50000 [==============================] - ETA: 0s - loss: 0.4181 - acc: 0.887 - 1s 13us/step - loss: 0.4181 - acc: 0.8870 - val_loss: 0.4037 - val_acc: 0.8909\n",
      "Epoch 10/20\n",
      "50000/50000 [==============================] - 1s 13us/step - loss: 0.4033 - acc: 0.8897 - val_loss: 0.3902 - val_acc: 0.8936\n",
      "Epoch 11/20\n",
      "50000/50000 [==============================] - 1s 14us/step - loss: 0.3911 - acc: 0.8923 - val_loss: 0.3799 - val_acc: 0.8955\n",
      "Epoch 12/20\n",
      "50000/50000 [==============================] - 1s 14us/step - loss: 0.3810 - acc: 0.8939 - val_loss: 0.3704 - val_acc: 0.8979\n",
      "Epoch 13/20\n",
      "50000/50000 [==============================] - 1s 13us/step - loss: 0.3722 - acc: 0.8967 - val_loss: 0.3626 - val_acc: 0.9003\n",
      "Epoch 14/20\n",
      "50000/50000 [==============================] - 1s 13us/step - loss: 0.3645 - acc: 0.8979 - val_loss: 0.3559 - val_acc: 0.9022\n",
      "Epoch 15/20\n",
      "50000/50000 [==============================] - 1s 15us/step - loss: 0.3577 - acc: 0.8995 - val_loss: 0.3499 - val_acc: 0.9019\n",
      "Epoch 16/20\n",
      "50000/50000 [==============================] - 1s 15us/step - loss: 0.3518 - acc: 0.9007 - val_loss: 0.3439 - val_acc: 0.9035\n",
      "Epoch 17/20\n",
      "50000/50000 [==============================] - 1s 17us/step - loss: 0.3462 - acc: 0.9020 - val_loss: 0.3393 - val_acc: 0.9048\n",
      "Epoch 18/20\n",
      "50000/50000 [==============================] - 1s 16us/step - loss: 0.3413 - acc: 0.9034 - val_loss: 0.3349 - val_acc: 0.9047\n",
      "Epoch 19/20\n",
      "50000/50000 [==============================] - 1s 14us/step - loss: 0.3366 - acc: 0.9050 - val_loss: 0.3303 - val_acc: 0.9064\n",
      "Epoch 20/20\n",
      "50000/50000 [==============================] - 1s 13us/step - loss: 0.3323 - acc: 0.9065 - val_loss: 0.3268 - val_acc: 0.9073\n"
     ]
    }
   ],
   "source": [
    "from keras import models \n",
    "from keras import layers \n",
    "\n",
    "# Define the architecture\n",
    "network = models.Sequential() \n",
    "network.add(layers.Dense(30, activation='relu', input_shape=(x_train[0].shape)))\n",
    "network.add(layers.Dense(10, activation='softmax'))\n",
    "\n",
    "# Define the optimizer, loss, and metrics \n",
    "network.compile(optimizer='sgd',\n",
    "                loss='categorical_crossentropy',\n",
    "                metrics=['accuracy'])\n",
    "\n",
    "# Train the network\n",
    "history = network.fit(x_train, \n",
    "                      y_train,\n",
    "                      epochs=20,\n",
    "                      batch_size=256,\n",
    "                      validation_data=(x_val, y_val))"
   ]
  },
  {
   "cell_type": "markdown",
   "metadata": {},
   "source": [
    "Let's create some helper functions than examine the loss and accuracy."
   ]
  },
  {
   "cell_type": "code",
   "execution_count": 74,
   "metadata": {},
   "outputs": [],
   "source": [
    "import matplotlib.pyplot as plt \n",
    "\n",
    "def display_loss(history):\n",
    "    \"\"\"Display the training/validation loss from the history.\"\"\"\n",
    "    train_loss = history.history['loss']\n",
    "    val_loss = history.history['val_loss']\n",
    "    epochs = range(1, len(train_loss) + 1)\n",
    "\n",
    "    plt.plot(epochs, train_loss, 'g', label='Training Loss')\n",
    "    plt.plot(epochs, val_loss, 'b', label='Validation Loss')\n",
    "    plt.title('Training and Validation Loss')\n",
    "    plt.xlabel('Epochs')\n",
    "    plt.ylabel('Loss')\n",
    "    plt.legend()\n",
    "    plt.show()\n",
    "    \n",
    "def display_accuracy(history):\n",
    "    \"\"\"Display the train/validation accuracy from the history.\"\"\"\n",
    "    train_acc = history.history['acc']\n",
    "    val_acc = history.history['val_acc']\n",
    "    epochs = range(1, len(train_acc) + 1)\n",
    "    \n",
    "    plt.clf() \n",
    "    plt.plot(epochs, train_acc, 'g', label='Training Accurcy')\n",
    "    plt.plot(epochs, val_acc, 'b', label='Validation Accurcy')\n",
    "    plt.title('Training and Validation Accuracy')\n",
    "    plt.xlabel('Epochs')\n",
    "    plt.ylabel('Accuracy')\n",
    "    plt.legend()\n",
    "    plt.show()"
   ]
  },
  {
   "cell_type": "markdown",
   "metadata": {},
   "source": [
    "Let's take a look at the loss."
   ]
  },
  {
   "cell_type": "code",
   "execution_count": 76,
   "metadata": {},
   "outputs": [
    {
     "data": {
      "image/png": "[encoded data removed]",
      "text/plain": [
       "<matplotlib.figure.Figure at 0x182ef6e6d8>"
      ]
     },
     "metadata": {},
     "output_type": "display_data"
    }
   ],
   "source": [
    "display_loss(history)"
   ]
  },
  {
   "cell_type": "markdown",
   "metadata": {},
   "source": [
    "Let's look at the accuracy."
   ]
  },
  {
   "cell_type": "code",
   "execution_count": null,
   "metadata": {
    "collapsed": true
   },
   "outputs": [],
   "source": []
  }
 ],
 "metadata": {
  "kernelspec": {
   "display_name": "Python 3",
   "language": "python",
   "name": "python3"
  },
  "language_info": {
   "codemirror_mode": {
    "name": "ipython",
    "version": 3
   },
   "file_extension": ".py",
   "mimetype": "text/x-python",
   "name": "python",
   "nbconvert_exporter": "python",
   "pygments_lexer": "ipython3",
   "version": "3.6.3"
  }
 },
 "nbformat": 4,
 "nbformat_minor": 2
}
