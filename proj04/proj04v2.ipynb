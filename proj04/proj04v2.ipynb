{
 "cells": [
  {
   "cell_type": "markdown",
   "metadata": {},
   "source": [
    "# Implementing a Neural Network from Scratch"
   ]
  },
  {
   "cell_type": "markdown",
   "metadata": {},
   "source": [
    "---\n",
    "## Loading the Data\n",
    "We are going to use the Keras MNIST data. The following steps should look familiar."
   ]
  },
  {
   "cell_type": "code",
   "execution_count": 2,
   "metadata": {},
   "outputs": [
    {
     "name": "stdout",
     "output_type": "stream",
     "text": [
      "(60000, 784)\n",
      "(10000, 784)\n",
      "(60000, 10)\n",
      "(10000, 10)\n"
     ]
    }
   ],
   "source": [
    "from keras.datasets import mnist\n",
    "from keras.utils import to_categorical\n",
    "\n",
    "(train_data, train_labels), (test_data, test_labels) = mnist.load_data()\n",
    "\n",
    "# Reshape\n",
    "train_data = train_data.reshape(60000, 28*28)\n",
    "test_data = test_data.reshape(10000, 28*28)\n",
    "\n",
    "# Scale\n",
    "train_data = train_data.astype('float32') / 255\n",
    "test_data = test_data.astype('float32') / 255\n",
    "\n",
    "# One-hot Encode\n",
    "train_labels = to_categorical(train_labels)\n",
    "test_labels = to_categorical(test_labels)\n",
    "\n",
    "# Check Shapes\n",
    "print(train_data.shape)\n",
    "print(test_data.shape)\n",
    "print(train_labels.shape)\n",
    "print(test_labels.shape)\n",
    "\n",
    "# Train / Val / Test\n",
    "x_val = train_data[:10000]\n",
    "x_train = train_data[10000:]\n",
    "y_val = train_labels[:10000]\n",
    "y_train = train_labels[10000:]"
   ]
  },
  {
   "cell_type": "markdown",
   "metadata": {},
   "source": [
    "---\n",
    "## Experiment"
   ]
  },
  {
   "cell_type": "code",
   "execution_count": 4,
   "metadata": {},
   "outputs": [],
   "source": [
    "import numpy as np\n",
    "\n",
    "def init_parameters(sizes):\n",
    "    \"\"\"Initializes a network with the given layer sizes.\"\"\"\n",
    "    parameters = {}\n",
    "    for l in range(1, len(sizes)):\n",
    "        parameters['W' + str(l)] = np.random.randn(sizes[l], sizes[l-1]) * np.sqrt(2/sizes[l-1])\n",
    "        parameters['b' + str(l)] = np.zeros((sizes[l], 1))\n",
    "    return parameters"
   ]
  },
  {
   "cell_type": "code",
   "execution_count": 322,
   "metadata": {
    "collapsed": true
   },
   "outputs": [],
   "source": [
    "def feed_forward_step(A_prev, W, b, activation):\n",
    "    \"\"\"Performs a single feed forward step with relu activation.\"\"\"\n",
    "    Z = np.dot(W, A_prev) + b\n",
    "    \n",
    "    if activation == 'relu':\n",
    "        A = np.maximum(Z, 0)\n",
    "        \n",
    "    if activation == 'softmax':\n",
    "        shiftx = Z - np.max(Z)\n",
    "        exps = np.exp(shiftx)\n",
    "        A = exps / np.sum(exps)\n",
    "    \n",
    "    cache = (W, A_prev, b, Z, A)\n",
    "    return A, cache \n",
    "\n",
    "def feed_forward(parameters, X):\n",
    "    A = X \n",
    "    L = len(parameters) // 2\n",
    "    caches = []\n",
    "    \n",
    "    # Use ReLU Activation on all hidden layers\n",
    "    for l in range(1, L):\n",
    "        A_prev = A\n",
    "        W = parameters['W' + str(l)]\n",
    "        b = parameters['b' + str(l)]\n",
    "        A, cache = feed_forward_step(A_prev, W, b, 'relu')\n",
    "        caches.append(cache)\n",
    "        \n",
    "    # Use Softmax Activation on the output layer\n",
    "    W = parameters['W' + str(L)]\n",
    "    b = parameters['b' + str(L)]\n",
    "    A, cache = feed_forward_step(A, W, b, 'softmax')\n",
    "    caches.append(cache)\n",
    "    \n",
    "    return A, caches\n",
    "        "
   ]
  },
  {
   "cell_type": "code",
   "execution_count": 181,
   "metadata": {},
   "outputs": [],
   "source": [
    "def back_prop_step(dA, cache, activation):\n",
    "    \"\"\"Perform backpropagation for a single layer.\"\"\"\n",
    "    (W, A_prev, b, Z, A) = cache\n",
    "    m = A_prev.shape[1]\n",
    "    \n",
    "    if activation == 'relu':\n",
    "        dZ = np.array(dA, copy=True)\n",
    "        dZ[Z <= 0] = 0\n",
    "        \n",
    "    if activation == 'softmax':\n",
    "        s = 1 / (1+np.exp(-Z))\n",
    "        dZ = dA * s * (1-s)\n",
    "        \n",
    "    dW = (1/m) * np.dot(dZ, A_prev.T)\n",
    "    db = (1/m) * np.sum(dZ, axis=1, keepdims=True)\n",
    "    dA_prev = np.dot(W.T, dZ)\n",
    "    return dA_prev, dW, db\n",
    "\n",
    "def back_prop(AL, Y, caches):\n",
    "    \"\"\"Performs backward propagation.\"\"\"\n",
    "    gradients = {} \n",
    "    L = len(caches)\n",
    "    m = AL.shape[1]\n",
    "    Y = Y.reshape(AL.shape)\n",
    "    eps = 1e-8\n",
    "    \n",
    "    # Initialize backpropagation\n",
    "    dAL = - (np.divide(Y, AL + eps) - np.divide(1 - Y, 1 - AL + eps)) \n",
    "\n",
    "    # Output layer \n",
    "    cache = caches[L-1]\n",
    "    gradients['dA' + str(L-1)], gradients['dW' + str(L)], gradients['db' + str(L)] = back_prop_step(dAL, cache, 'softmax')\n",
    "    \n",
    "    # All other layers \n",
    "    for l in reversed(range(L-1)):\n",
    "        cache = caches[l]\n",
    "        dA = gradients['dA' + str(l + 1)]\n",
    "        dA_prev, dW, db = back_prop_step(dA, cache, 'relu')\n",
    "        gradients['dA' + str(l)] = dA_prev\n",
    "        gradients['dW' + str(l + 1)] = dW\n",
    "        gradients['db' + str(l + 1)] = db\n",
    "    \n",
    "    return gradients"
   ]
  },
  {
   "cell_type": "code",
   "execution_count": 12,
   "metadata": {
    "collapsed": true
   },
   "outputs": [],
   "source": [
    "def compute_cost(Y, AL):\n",
    "    \"\"\"Computes the cost using the CE cost function.\"\"\"\n",
    "    m = Y.shape[1]\n",
    "    eps = 1e-8\n",
    "    cost = (-1/m) * np.sum(np.multiply(np.log(AL + eps), Y) + np.multiply(np.log((1-AL) + eps),(1-Y)))\n",
    "    return np.squeeze(cost)"
   ]
  },
  {
   "cell_type": "code",
   "execution_count": 29,
   "metadata": {
    "collapsed": true
   },
   "outputs": [],
   "source": [
    "def get_minibatch(X, Y, batch_size):\n",
    "    \"\"\"Generator for mini batches.\"\"\"\n",
    "    permutation = np.random.permutation(X.shape[1])\n",
    "    for k in range(0, X.shape[1], batch_size):\n",
    "        batch_columns = permutation[k:k+batch_size]\n",
    "        X_mini = X[:,batch_columns]\n",
    "        Y_mini = Y[:,batch_columns]\n",
    "        yield (X_mini, Y_mini)"
   ]
  },
  {
   "cell_type": "code",
   "execution_count": 319,
   "metadata": {
    "collapsed": true
   },
   "outputs": [],
   "source": [
    "def update_parameters(parameters, grads, learning_rate):\n",
    "        \"\"\"Updates the weights and biases with the given gradients.\"\"\"\n",
    "        L = len(parameters) // 2\n",
    "\n",
    "        for l in range(L):\n",
    "            parameters[\"W\" + str(l+1)] = parameters[\"W\" + str(l+1)] - learning_rate * grads[\"dW\" + str(l+1)]\n",
    "            parameters[\"b\" + str(l+1)] = parameters[\"b\" + str(l+1)] - learning_rate * grads[\"db\" + str(l+1)]\n",
    "\n",
    "        return parameters"
   ]
  },
  {
   "cell_type": "code",
   "execution_count": 323,
   "metadata": {
    "collapsed": true
   },
   "outputs": [],
   "source": [
    "def train(parameters, X, Y, epochs, lr, batch_size=128, print_cost=True):\n",
    "    for i in range(1, epochs+1):\n",
    "        cost = 0\n",
    "        for mini_X, mini_Y in get_minibatch(X.T, Y.T, batch_size):\n",
    "            A, caches = feed_forward(parameters, mini_X)\n",
    "            cost += compute_cost(mini_Y, A)\n",
    "            grads = back_prop(A, mini_Y, caches)\n",
    "            parameters = update_parameters(parameters, grads, learning_rate=lr)\n",
    "        if print_cost and i % 5 == 0:\n",
    "            print(\"Cost after epoch %i: %f\" %(i, cost))"
   ]
  },
  {
   "cell_type": "code",
   "execution_count": 324,
   "metadata": {},
   "outputs": [
    {
     "name": "stdout",
     "output_type": "stream",
     "text": [
      "Cost after epoch 5: 7230.635238\n",
      "Cost after epoch 10: 7230.635238\n",
      "Cost after epoch 15: 7230.923062\n",
      "Cost after epoch 20: 7228.044830\n",
      "Cost after epoch 25: 7231.498708\n",
      "Cost after epoch 30: 7229.196123\n",
      "Cost after epoch 35: 7229.196123\n",
      "Cost after epoch 40: 7227.584313\n",
      "Cost after epoch 45: 7229.599075\n",
      "Cost after epoch 50: 7232.362177\n"
     ]
    }
   ],
   "source": [
    "# params = init_parameters([784, 30, 10])\n",
    "train(params, x_train, y_train, 50, 0.05)"
   ]
  },
  {
   "cell_type": "code",
   "execution_count": 270,
   "metadata": {
    "collapsed": true
   },
   "outputs": [],
   "source": [
    "def predict(params, X):\n",
    "    out, _ = feed_forward(params, X)\n",
    "    predictions = np.argmax(out, axis=0)\n",
    "    return predictions\n",
    "    \n",
    "def accuracy(params, X, Y):\n",
    "    targets = np.argmax(Y, axis=0)\n",
    "    predictions = predict(params, X)\n",
    "    return np.mean(predictions == targets)"
   ]
  },
  {
   "cell_type": "code",
   "execution_count": 271,
   "metadata": {},
   "outputs": [
    {
     "name": "stdout",
     "output_type": "stream",
     "text": [
      "0.98044\n",
      "0.9603\n"
     ]
    }
   ],
   "source": [
    "print(accuracy(params, x_train.T, y_train.T))\n",
    "print(accuracy(params, x_val.T, y_val.T))"
   ]
  },
  {
   "cell_type": "markdown",
   "metadata": {},
   "source": [
    "## Generating Experiment"
   ]
  },
  {
   "cell_type": "code",
   "execution_count": 272,
   "metadata": {
    "collapsed": true
   },
   "outputs": [],
   "source": [
    "image = np.random.randn(1, 784) * 0.01\n",
    "image_copy = np.copy(image)"
   ]
  },
  {
   "cell_type": "code",
   "execution_count": 273,
   "metadata": {},
   "outputs": [
    {
     "data": {
      "image/png": "[encoded data removed]",
      "text/plain": [
       "<matplotlib.figure.Figure at 0x18307372b0>"
      ]
     },
     "metadata": {},
     "output_type": "display_data"
    }
   ],
   "source": [
    "import matplotlib.pyplot as plt\n",
    "\n",
    "plt.imshow(image.reshape(28,28), cmap='gray')\n",
    "plt.show()"
   ]
  },
  {
   "cell_type": "code",
   "execution_count": 304,
   "metadata": {},
   "outputs": [],
   "source": [
    "def update_image(image, grads, learning_rate):\n",
    "        \"\"\"Updates the weights and biases with the given gradients.\"\"\"\n",
    "        image = image - (learning_rate * grads[\"dA0\"])\n",
    "        return image"
   ]
  },
  {
   "cell_type": "code",
   "execution_count": 311,
   "metadata": {},
   "outputs": [
    {
     "name": "stdout",
     "output_type": "stream",
     "text": [
      "(10,)\n",
      "(10,)\n",
      "(784,)\n",
      "(784,)\n"
     ]
    }
   ],
   "source": [
    "label = 9\n",
    "label_vector = np.zeros((1,10))\n",
    "label_vector[0,label] = 1"
   ]
  },
  {
   "cell_type": "code",
   "execution_count": 314,
   "metadata": {},
   "outputs": [],
   "source": [
    "def generate_image(parameters, image, Y, epochs, lr, batch_size=1, display=True):\n",
    "    for i in range(1, epochs+1):\n",
    "        A, caches = feed_forward(parameters, image)\n",
    "        grads = back_prop(A, label_vector, caches)\n",
    "        image = update_image(image, grads, learning_rate=lr)\n",
    "        if display and i % 10000 == 0:\n",
    "            cost = compute_cost(Y, A)\n",
    "            print(\"Image after epoch\", str(i))\n",
    "            print(cost)\n",
    "            plt.imshow(image.reshape(28,28), cmap='gray')\n",
    "            plt.show()\n",
    "    return image"
   ]
  },
  {
   "cell_type": "code",
   "execution_count": 315,
   "metadata": {},
   "outputs": [
    {
     "name": "stdout",
     "output_type": "stream",
     "text": [
      "Image after epoch 10000\n",
      "0.00012632240930917298\n"
     ]
    },
    {
     "data": {
      "image/png": "[encoded data removed]",
      "text/plain": [
       "<matplotlib.figure.Figure at 0x1833662128>"
      ]
     },
     "metadata": {},
     "output_type": "display_data"
    },
    {
     "name": "stdout",
     "output_type": "stream",
     "text": [
      "Image after epoch 20000\n",
      "6.336219484029369e-05\n"
     ]
    },
    {
     "data": {
      "image/png": "[encoded data removed]",
      "text/plain": [
       "<matplotlib.figure.Figure at 0x1830759710>"
      ]
     },
     "metadata": {},
     "output_type": "display_data"
    },
    {
     "name": "stdout",
     "output_type": "stream",
     "text": [
      "Image after epoch 30000\n",
      "4.226515486532047e-05\n"
     ]
    },
    {
     "data": {
      "image/png": "[encoded data removed]",
      "text/plain": [
       "<matplotlib.figure.Figure at 0x1832737f28>"
      ]
     },
     "metadata": {},
     "output_type": "display_data"
    },
    {
     "name": "stdout",
     "output_type": "stream",
     "text": [
      "Image after epoch 40000\n",
      "3.1695551137831506e-05\n"
     ]
    },
    {
     "data": {
      "image/png": "[encoded data removed]",
      "text/plain": [
       "<matplotlib.figure.Figure at 0x1830041390>"
      ]
     },
     "metadata": {},
     "output_type": "display_data"
    },
    {
     "name": "stdout",
     "output_type": "stream",
     "text": [
      "Image after epoch 50000\n",
      "2.5346980726067273e-05\n"
     ]
    },
    {
     "data": {
      "image/png": "[encoded data removed]",
      "text/plain": [
       "<matplotlib.figure.Figure at 0x1833806160>"
      ]
     },
     "metadata": {},
     "output_type": "display_data"
    },
    {
     "name": "stdout",
     "output_type": "stream",
     "text": [
      "Image after epoch 60000\n",
      "1.9280712204040458e-05\n"
     ]
    },
    {
     "data": {
      "image/png": "[encoded data removed]",
      "text/plain": [
       "<matplotlib.figure.Figure at 0x12aca8cf8>"
      ]
     },
     "metadata": {},
     "output_type": "display_data"
    },
    {
     "name": "stdout",
     "output_type": "stream",
     "text": [
      "Image after epoch 70000\n",
      "1.554987930033587e-05\n"
     ]
    },
    {
     "data": {
      "image/png": "[encoded data removed]",
      "text/plain": [
       "<matplotlib.figure.Figure at 0x1833398b00>"
      ]
     },
     "metadata": {},
     "output_type": "display_data"
    },
    {
     "name": "stdout",
     "output_type": "stream",
     "text": [
      "Image after epoch 80000\n",
      "1.3112639233376109e-05\n"
     ]
    },
    {
     "data": {
      "image/png": "[encoded data removed]",
      "text/plain": [
       "<matplotlib.figure.Figure at 0x183074b3c8>"
      ]
     },
     "metadata": {},
     "output_type": "display_data"
    },
    {
     "name": "stdout",
     "output_type": "stream",
     "text": [
      "Image after epoch 90000\n",
      "1.136717084674593e-05\n"
     ]
    },
    {
     "data": {
      "image/png": "[encoded data removed]",
      "text/plain": [
       "<matplotlib.figure.Figure at 0x183075ceb8>"
      ]
     },
     "metadata": {},
     "output_type": "display_data"
    },
    {
     "name": "stdout",
     "output_type": "stream",
     "text": [
      "Image after epoch 100000\n",
      "1.00452539577862e-05\n"
     ]
    },
    {
     "data": {
      "image/png": "[encoded data removed]",
      "text/plain": [
       "<matplotlib.figure.Figure at 0x183258e438>"
      ]
     },
     "metadata": {},
     "output_type": "display_data"
    }
   ],
   "source": [
    "image_one = generate_image(params, image.T, label_vector.T, 100000, lr=0.1)"
   ]
  },
  {
   "cell_type": "code",
   "execution_count": 316,
   "metadata": {},
   "outputs": [],
   "source": [
    "A, caches = feed_forward(params, image.T)\n",
    "grads = back_prop(A, label_vector.T, caches)"
   ]
  },
  {
   "cell_type": "code",
   "execution_count": 317,
   "metadata": {},
   "outputs": [
    {
     "name": "stdout",
     "output_type": "stream",
     "text": [
      "[[0. 0. 0. 0. 0. 0. 0. 0. 0. 1.]]\n",
      "[[0.00766546]\n",
      " [0.12846584]\n",
      " [0.08333786]\n",
      " [0.01092673]\n",
      " [0.19867898]\n",
      " [0.34998709]\n",
      " [0.07564978]\n",
      " [0.05190939]\n",
      " [0.00807232]\n",
      " [0.05622602]]\n"
     ]
    }
   ],
   "source": [
    "# print(grads.keys())\n",
    "# print(grads['dA0'])\n",
    "A, caches = feed_forward(params, image.T)\n",
    "print(label_vector)\n",
    "print(A)"
   ]
  }
 ],
 "metadata": {
  "kernelspec": {
   "display_name": "Python 3",
   "language": "python",
   "name": "python3"
  },
  "language_info": {
   "codemirror_mode": {
    "name": "ipython",
    "version": 3
   },
   "file_extension": ".py",
   "mimetype": "text/x-python",
   "name": "python",
   "nbconvert_exporter": "python",
   "pygments_lexer": "ipython3",
   "version": "3.6.3"
  }
 },
 "nbformat": 4,
 "nbformat_minor": 2
}
