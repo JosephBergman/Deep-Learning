{
 "cells": [
  {
   "cell_type": "markdown",
   "metadata": {},
   "source": [
    "# Implementing a Neural Network from Scratch"
   ]
  },
  {
   "cell_type": "markdown",
   "metadata": {},
   "source": [
    "--- \n",
    "## Introduction\n",
    "In this post, we're going to implement a fully-connected neural network from scratch and use it to perform sentiment analysis on the IMDB movie reviews dataset. That is – we'll create a network to tell us if a movie review is positive or negative. The IMDB dataset is included with Keras, so let's dive right in. "
   ]
  },
  {
   "cell_type": "markdown",
   "metadata": {
    "collapsed": true
   },
   "source": [
    "---\n",
    "## Loading the Data"
   ]
  },
  {
   "cell_type": "markdown",
   "metadata": {},
   "source": [
    "We load the data like usual. The `num_words=10000` says that we only want to keep that 10,000 most frequent words. "
   ]
  },
  {
   "cell_type": "code",
   "execution_count": 1,
   "metadata": {},
   "outputs": [
    {
     "name": "stderr",
     "output_type": "stream",
     "text": [
      "Using TensorFlow backend.\n"
     ]
    }
   ],
   "source": [
    "from keras.datasets import imdb\n",
    "\n",
    "(train_data, train_labels), (test_data, test_labels) = imdb.load_data(num_words=10000)"
   ]
  },
  {
   "cell_type": "markdown",
   "metadata": {},
   "source": [
    "Currently the reviews are stored as integer sequences where each integer represents a given word. The following function can convert an integer sequence back into the original review. The `word_index` maps each word to its integer, and by reversing that index, we can map each integer to its word. The '?' represents a word that was not in the top 10,000 words, so we don't know what it is. "
   ]
  },
  {
   "cell_type": "code",
   "execution_count": 2,
   "metadata": {},
   "outputs": [
    {
     "name": "stdout",
     "output_type": "stream",
     "text": [
      "Review\n",
      "~~~~~~\n",
      "? this film was just brilliant casting location scenery story direction everyone's really suited the part they played and you could just imagine being there robert ? is an amazing actor and now the same being director ? father came from the same scottish island as myself so i loved the fact there was a real connection with this film the witty remarks throughout the film were great it was just brilliant so much that i bought the film as soon as it was released for ? and would recommend it to everyone to watch and the fly fishing was amazing really cried at the end it was so sad and you know what they say if you cry at a film it must have been good and this definitely was also ? to the two little boy's that played the ? of norman and paul they were just brilliant children are often left out of the ? list i think because the stars that play them all grown up are such a big profile for the whole film but these children are amazing and should be praised for what they have done don't you think the whole story was so lovely because it was true and was someone's life after all that was shared with us all\n",
      "\n",
      "Sentiment\n",
      "~~~~~~~~~\n",
      "1\n"
     ]
    }
   ],
   "source": [
    "def sequence_to_text(sequence):\n",
    "    \"\"\"Converts an integer sequence into the actual review text.\"\"\"\n",
    "    word_index = imdb.get_word_index()\n",
    "    reverse_index = {value: key for (key, value) in word_index.items()}\n",
    "    return ' '.join([reverse_index.get(i - 3, '?') for i in sequence])\n",
    "\n",
    "print(\"Review\")\n",
    "print(\"~~~~~~\")\n",
    "print(sequence_to_text(train_data[0]), end=\"\\n\\n\")\n",
    "\n",
    "print(\"Sentiment\")\n",
    "print(\"~~~~~~~~~\")\n",
    "print(train_labels[0])"
   ]
  },
  {
   "cell_type": "markdown",
   "metadata": {},
   "source": [
    "We have to prepare our data to be fed into a neural network. We'll do this by creating a binary vector to represent each review. Each vector will be be `(10000,1)` and a 1 at index $i$ will indicate that word $i$ occurred in our review. One thng to not that this loses some valuable sequential information. For instance, the reviews \"bad. not good.\" and \"good. not bad.\" would have the same representation since they contain the same words. However, the first review describes a bad movie and the second review describes a good movie. There are other models that can handle sequential data like this, but this is an okay representation for now."
   ]
  },
  {
   "cell_type": "code",
   "execution_count": 3,
   "metadata": {
    "collapsed": true
   },
   "outputs": [],
   "source": [
    "import numpy as np \n",
    "\n",
    "def vectorize_sequences(sequences, dimension=10000):\n",
    "    results = np.zeros((len(sequences), dimension))\n",
    "    for i, sequence in enumerate(sequences):\n",
    "        results[i, sequence] = 1\n",
    "    return results\n",
    "\n",
    "# Vectorize our input data \n",
    "vectorized_train_data = vectorize_sequences(train_data)\n",
    "vectorized_test_data = vectorize_sequences(test_data)\n",
    "\n",
    "# Vectorize our label data as well \n",
    "vectorized_train_labels = np.asarray(train_labels).astype('float32')\n",
    "vectorized_test_labels = np.asarray(test_labels).astype('float32')"
   ]
  },
  {
   "cell_type": "markdown",
   "metadata": {},
   "source": [
    "Just to make everything is in order, let's check the shape of our data. "
   ]
  },
  {
   "cell_type": "code",
   "execution_count": 4,
   "metadata": {},
   "outputs": [
    {
     "name": "stdout",
     "output_type": "stream",
     "text": [
      "Input Data\n",
      "Train Data (25000, 10000)\n",
      "Test Data (25000, 10000)\n",
      "\n",
      "Output Data\n",
      "Train Labels (25000,)\n",
      "Train Labels (25000,)\n"
     ]
    }
   ],
   "source": [
    "print('Input Data')\n",
    "print('Train Data', vectorized_train_data.shape)\n",
    "print('Test Data', vectorized_test_data.shape)\n",
    "\n",
    "print('\\nOutput Data')\n",
    "print('Train Labels', vectorized_train_labels.shape)\n",
    "print('Train Labels', vectorized_test_labels.shape)"
   ]
  },
  {
   "cell_type": "markdown",
   "metadata": {},
   "source": [
    "Finally, we can create our train, validation, and test splits. `.T` transposes the datasets. Currently our datasets have the number of samples as the first axis. Because of how we are going to implement forward propagation, we will transpose our datasets to make the number of samples the final axis. "
   ]
  },
  {
   "cell_type": "code",
   "execution_count": 9,
   "metadata": {
    "collapsed": true
   },
   "outputs": [],
   "source": [
    "# Separate input data\n",
    "x_val = vectorized_train_data[:10000].T\n",
    "x_train = vectorized_train_data[10000:].T\n",
    "x_test = vectorized_test_data[:].T\n",
    "\n",
    "# Separate labels \n",
    "y_val = vectorized_train_labels[:10000]\n",
    "y_train = vectorized_train_labels[10000:]\n",
    "y_test = vectorized_test_labels[:]"
   ]
  },
  {
   "cell_type": "markdown",
   "metadata": {},
   "source": [
    "--- \n",
    "## Activation and Cost Functions \n",
    "Before implementing our network, we will define some activation and cost functions.\n",
    "\n",
    "### Activation Functions\n",
    "For our network, we actually only need sigmoid (for the final layer) and ReLU for the hidden layers. However, hyperbolic tangent and leaky ReLU have been provided as examples. A leaky ReLU is like a regular ReLU but with a non-zero derivative for $z < 0$. Note that each activation function has a method for forward propagation which computes $g(z)$ and a method for backward propagation which computes $dA g'(z)$."
   ]
  },
  {
   "cell_type": "code",
   "execution_count": 8,
   "metadata": {
    "collapsed": true
   },
   "outputs": [],
   "source": [
    "class ActivationFunction:\n",
    "    \"\"\"An abstract class representing an activation function.\"\"\"\n",
    "    \n",
    "    def __init__(self):\n",
    "        pass \n",
    "    \n",
    "    def forward(self, Z): \n",
    "        raise NotImplementedError\n",
    "        \n",
    "    def backward(self, dA, Z): \n",
    "        raise NotImplementedError\n",
    "        \n",
    "\n",
    "class Sigmoid(ActivationFunction): \n",
    "    \"\"\"Implementation of the sigmoid activation function.\"\"\"\n",
    "    \n",
    "    def forward(self, Z): \n",
    "        return 1.0 / (1.0 + np.exp(-Z))\n",
    "        \n",
    "    def backward(self, dA, Z): \n",
    "        s = 1 / (1+np.exp(-Z))\n",
    "        dZ = dA * s * (1-s)\n",
    "        return dZ\n",
    "    \n",
    "\n",
    "class Tanh(ActivationFunction): \n",
    "    \"\"\"Implementation of the hypterbolic tangent activation function.\"\"\"\n",
    "    \n",
    "    def forward(self, Z): \n",
    "        return np.tanh(Z)\n",
    "        \n",
    "    def backward(self, dA, Z): \n",
    "        t = tanh(Z)\n",
    "        return dA * (1 - t*t)\n",
    "    \n",
    "\n",
    "class ReLU(ActivationFunction): \n",
    "    \"\"\"Implementation of the ReLU function.\"\"\"\n",
    "    \n",
    "    def forward(self, Z): \n",
    "        return np.maximum(Z, 0)\n",
    "        \n",
    "    def backward(self, dA, Z): \n",
    "        dZ = np.array(dA, copy=True)\n",
    "        dZ[Z <= 0] = 0\n",
    "        return dZ\n",
    "    \n",
    "\n",
    "class LeakyReLU(ActivationFunction): \n",
    "    \"\"\"Implementation of the Leaky ReLU function.\"\"\"\n",
    "    \n",
    "    def __init__(self, alpha): \n",
    "        super().__init__()\n",
    "        self.alpha = alpha\n",
    "    \n",
    "    def forward(self, Z): \n",
    "        return np.maximum(Z, self.alpha*Z)\n",
    "        \n",
    "    def backward(self, dA, Z): \n",
    "        dZ = np.ones_like(Z)\n",
    "        dZ[Z <= 0] = self.alpha\n",
    "        return dA*dZ"
   ]
  },
  {
   "cell_type": "markdown",
   "metadata": {},
   "source": [
    "### Cost Functions\n",
    "We can define the cost functions similar to how we defined the activation functions – with an abstract class and then subclasses for each cost function. Cross entropy and mean-squared error are implemented below, but additional options could be added. The `eps=1e-8` prevents NaN from propagating through our network in the case of dividing by zero. "
   ]
  },
  {
   "cell_type": "code",
   "execution_count": 7,
   "metadata": {
    "collapsed": true
   },
   "outputs": [],
   "source": [
    "class CostFunction:\n",
    "    \"\"\"An abstract class representing a cost function.\"\"\"\n",
    "    \n",
    "    def __init__(self):\n",
    "        pass \n",
    "    \n",
    "    def cost(self, AL, Y):\n",
    "        raise NotImplementedError\n",
    "        \n",
    "    def derivative(self, AL, Y):\n",
    "        raise NotImplementedError\n",
    "    \n",
    "\n",
    "class CrossEntropy(CostFunction):\n",
    "    \"\"\"Implementation of the Cross Entropy Cost Function.\"\"\"\n",
    "    \n",
    "    def cost(self, AL, Y):\n",
    "        m = Y.shape[-1]\n",
    "        eps = 1e-8\n",
    "        cost = (-1/m) * np.sum(np.multiply(np.log(AL + eps), Y) + np.multiply(np.log((1-AL) + eps),(1-Y)))\n",
    "        return np.squeeze(cost)\n",
    "    \n",
    "    def derivative(self, AL, Y):\n",
    "        eps = 1e-8\n",
    "        return - (np.divide(Y, AL + eps) - np.divide(1 - Y, 1 - AL + eps))\n",
    "    \n",
    "\n",
    "class MeanSquaredError(CostFunction):\n",
    "    \"\"\"Implementation of the Mean Squared Error Cost Function\"\"\"\n",
    "    \n",
    "    def cost(self, AL, Y):\n",
    "        m = Y.shape[-1]\n",
    "        cost = (1/(2*m)) * np.sum(np.square(Y - AL))\n",
    "        return np.squeeze(cost)\n",
    "    \n",
    "    def derivative(self, AL, Y):\n",
    "        return AL - Y"
   ]
  },
  {
   "cell_type": "markdown",
   "metadata": {},
   "source": [
    "## Implementing our Neural Network\n",
    "Finally, we will implement the network. Because of the way defining classes works in Jupyter notebooks, the code will be explained first and then provided in a single cell. \n",
    "\n",
    "### Initialization \n",
    "To initialize our network we will simply provide a list of desire layer sizes. The network will then initialize the weights, biases, activation functions, and cost function for the network. We are using a Cross Entropy cost function since we are doing binary classification. \n",
    "```python\n",
    "def __init__(self, layer_sizes):\n",
    "    \"\"\"Initializes a new network with the given dimensions.\"\"\"\n",
    "    self.num_layers = len(layer_sizes)\n",
    "    self.layer_sizes = layer_sizes\n",
    "    self.cost_function = CrossEntropy()\n",
    "    self.activation_functions = self.initialize_activation_functions(layer_sizes)\n",
    "    self.parameters = self.initialize_parameters(layer_sizes)\n",
    "```\n",
    "\n",
    "Next, we initialize the activation functions. Technically, this could be added as an initialization parameter, but for now we will keep things simple by just using ReLU for hidden layers and sigmoid for the output layer. Also, note that we start with `activations = [None]` since the input layer has no activation function. \n",
    "```python\n",
    "def initialize_activation_functions(self, layer_sizes):\n",
    "    \"\"\"Returns an array of activation functions.\"\"\"\n",
    "    activations = [None]\n",
    "    for _ in range(1, self.num_layers-1):\n",
    "        activations.append(ReLU())\n",
    "    activations.append(Sigmoid())\n",
    "    return activations\n",
    "```\n",
    "\n",
    "Finally, we will store the weights and biases in a dictionary. We use random initialization for the weight matrices with a scaling factor of 0.01 to ensure that this performs ok (in the previous post we saw if the weights are too large learning will be slow.) \n",
    "```python \n",
    "def initialize_parameters(self, layer_sizes):\n",
    "    \"\"\"Returns a new dictionary of weights and biases.\"\"\"\n",
    "    parameters = {}\n",
    "    for l in range(1, self.num_layers):\n",
    "        parameters['W' + str(l)] = np.random.randn(layer_sizes[l], layer_sizes[l-1]) * 0.01\n",
    "        parameters['b' + str(l)] = np.zeros((layer_sizes[l], 1))\n",
    "    return parameters\n",
    "```\n",
    "\n",
    "### Forward Propagation \n",
    "We will split implementing forward propagation into two parts: (1) a single layer forward propagation, and (2) forward propagation for the whole network. A single layer is simple, we just compute $Z_l = W_l A_{l-1} + b_l$ and $A_l = g(Z_l)$. We return all of the values as a cache so they can be reused during backward propagation. \n",
    "```python \n",
    "def forward_propagation_step(self, W, A_prev, b, activation):\n",
    "    \"\"\"Compute the output of a single layer.\"\"\"\n",
    "    Z = np.dot(W, A_prev) + b\n",
    "    A = activation.forward(Z)\n",
    "    cache = (W, A_prev, b, Z, A)\n",
    "    return A, cache\n",
    "```\n",
    "\n",
    "Then, we implement the forward propagation for the entire network. Note that we also do `caches = [None]` so that layer $l$ has cache $l$. \n",
    "```python\n",
    "def forward_propagation(self, X):\n",
    "    \"\"\"Compute the output for the given examples.\"\"\"\n",
    "    A = X \n",
    "    caches = [None]\n",
    "\n",
    "    for layer in range(1, self.num_layers):\n",
    "        A_prev = A\n",
    "        W = self.parameters['W' + str(layer)]\n",
    "        b = self.parameters['b' + str(layer)]\n",
    "        activation = self.activation_functions[layer]\n",
    "        A, cache = self.forward_propagation_step(W, A_prev, b, activation)\n",
    "        caches.append(cache)\n",
    "\n",
    "    return A, caches\n",
    "```\n",
    "\n",
    "### Backpropagation\n",
    "We also implement backpropagation in two parts. First, for a single layer. \n",
    "```python\n",
    "def backward_propagation_step(self, dA, cache, activation):\n",
    "    \"\"\"Compute the gradients of a single layer.\"\"\"\n",
    "    (W, A_prev, b, Z, A) = cache\n",
    "    m = A_prev.shape[1]\n",
    "    dZ = activation.backward(dA, Z)\n",
    "    dW = (1/m) * np.dot(dZ, A_prev.T)\n",
    "    db = (1/m) * np.sum(dZ, axis=1, keepdims=True)\n",
    "    dA_prev = np.dot(W.T, dZ)\n",
    "    return dA_prev, dW, db\n",
    "```\n",
    "\n",
    "Then for the entire network.\n",
    "```python \n",
    "def backward_propagation(self, AL, Y, caches): \n",
    "    \"\"\"Compute the gradients based on the results of forward propagation.\"\"\"\n",
    "    gradients = {}\n",
    "    Y = Y.reshape(AL.shape)\n",
    "\n",
    "    dA = self.cost_function.derivative(AL, Y)\n",
    "\n",
    "    for layer in reversed(range(1,self.num_layers)):\n",
    "        cache = caches[layer]\n",
    "        activation = self.activation_functions[layer]\n",
    "        dA, dW, db = self.backward_propagation_step(dA, cache, activation)\n",
    "        gradients[\"dA\" + str(layer-1)] = dA \n",
    "        gradients[\"dW\" + str(layer)] = dW \n",
    "        gradients[\"db\" + str(layer)] = db\n",
    "\n",
    "    return gradients \n",
    "```\n",
    "\n",
    "### Putting It All Together"
   ]
  },
  {
   "cell_type": "code",
   "execution_count": 5,
   "metadata": {
    "collapsed": true
   },
   "outputs": [],
   "source": [
    "class Network:\n",
    "    \n",
    "    #\n",
    "    # Initialization\n",
    "    #\n",
    "    \n",
    "    def __init__(self, layer_sizes):\n",
    "        \"\"\"Initializes a new network with the given dimensions.\"\"\"\n",
    "        self.num_layers = len(layer_sizes)\n",
    "        self.layer_sizes = layer_sizes\n",
    "        self.cost_function = CrossEntropy()\n",
    "        self.activation_functions = self.initialize_activation_functions(layer_sizes)\n",
    "        self.parameters = self.initialize_parameters(layer_sizes) \n",
    "        \n",
    "        \n",
    "    def initialize_activation_functions(self, layer_sizes):\n",
    "        \"\"\"Returns an array of activation functions.\"\"\"\n",
    "        activations = [None]\n",
    "        for _ in range(1, self.num_layers-1):\n",
    "            activations.append(ReLU())\n",
    "        activations.append(Sigmoid())\n",
    "        return activations\n",
    "            \n",
    "        \n",
    "    def initialize_parameters(self, layer_sizes):\n",
    "        \"\"\"Returns a new dictionary of weights and biases.\"\"\"\n",
    "        parameters = {}\n",
    "        for l in range(1, self.num_layers):\n",
    "            parameters['W' + str(l)] = np.random.randn(layer_sizes[l], layer_sizes[l-1]) * 0.01\n",
    "            parameters['b' + str(l)] = np.zeros((layer_sizes[l], 1))\n",
    "        return parameters\n",
    "    \n",
    "    \n",
    "    #\n",
    "    # Forward Propagation\n",
    "    #\n",
    "    \n",
    "    def forward_propagation(self, X):\n",
    "        \"\"\"Compute the output for the given examples.\"\"\"\n",
    "        A = X \n",
    "        caches = [None]\n",
    "        \n",
    "        for layer in range(1, self.num_layers):\n",
    "            A_prev = A\n",
    "            W = self.parameters['W' + str(layer)]\n",
    "            b = self.parameters['b' + str(layer)]\n",
    "            activation = self.activation_functions[layer]\n",
    "            A, cache = self.forward_propagation_step(W, A_prev, b, activation)\n",
    "            caches.append(cache)\n",
    "            \n",
    "        return A, caches\n",
    "    \n",
    "    \n",
    "    def forward_propagation_step(self, W, A_prev, b, activation):\n",
    "        \"\"\"Compute the output of a single layer.\"\"\"\n",
    "        Z = np.dot(W, A_prev) + b\n",
    "        A = activation.forward(Z)\n",
    "        cache = (W, A_prev, b, Z, A)\n",
    "        return A, cache\n",
    "    \n",
    "    \n",
    "    #\n",
    "    # Backward Propagation \n",
    "    #\n",
    "    \n",
    "    def backward_propagation(self, AL, Y, caches): \n",
    "        \"\"\"Compute the gradients based on the results of forward propagation.\"\"\"\n",
    "        gradients = {}\n",
    "        Y = Y.reshape(AL.shape)\n",
    "        \n",
    "        dA = self.cost_function.derivative(AL, Y)\n",
    "        \n",
    "        for layer in reversed(range(1,self.num_layers)):\n",
    "            cache = caches[layer]\n",
    "            activation = self.activation_functions[layer]\n",
    "            dA, dW, db = self.backward_propagation_step(dA, cache, activation)\n",
    "            gradients[\"dA\" + str(layer-1)] = dA \n",
    "            gradients[\"dW\" + str(layer)] = dW \n",
    "            gradients[\"db\" + str(layer)] = db\n",
    "            \n",
    "        return gradients \n",
    "    \n",
    "    \n",
    "    def backward_propagation_step(self, dA, cache, activation):\n",
    "        \"\"\"Compute the gradients of a single layer.\"\"\"\n",
    "        (W, A_prev, b, Z, A) = cache\n",
    "        m = A_prev.shape[1]\n",
    "        dZ = activation.backward(dA, Z)\n",
    "        dW = (1/m) * np.dot(dZ, A_prev.T)\n",
    "        db = (1/m) * np.sum(dZ, axis=1, keepdims=True)\n",
    "        dA_prev = np.dot(W.T, dZ)\n",
    "        return dA_prev, dW, db\n",
    "    \n",
    "    \n",
    "    #\n",
    "    # Compute Cost \n",
    "    #\n",
    "    \n",
    "    def compute_cost(self, AL, Y):\n",
    "        \"\"\"Computes the overall cost using the network's cost function.\"\"\"\n",
    "        return self.cost_function.cost(AL, Y)"
   ]
  },
  {
   "cell_type": "markdown",
   "metadata": {},
   "source": [
    "---\n",
    "## Training the Neural Network\n",
    "Next, we will write functionality for training our network. These are outside the `Network` class because the network should only be concerned with its weights, biases, and making predictions. First, we will implement the gradient descent update rule, then a generator for creating minibatches, then a function for network accuracy, and finally the training function. \n",
    "\n",
    "### Gradient Descent \n",
    "A single step of gradient descent will update network parameters based on the learning rate `eta`. "
   ]
  },
  {
   "cell_type": "code",
   "execution_count": 13,
   "metadata": {
    "collapsed": true
   },
   "outputs": [],
   "source": [
    "def gradient_descent_update(network, gradients, eta):\n",
    "    parameters = network.parameters\n",
    "    for i in range(1, network.num_layers):\n",
    "        parameters[\"W\" + str(i)] = network.parameters[\"W\" + str(i)] - eta * gradients[\"dW\" + str(i)]\n",
    "        parameters[\"b\" + str(i)] = network.parameters[\"b\" + str(i)] - eta * gradients[\"db\" + str(i)]\n",
    "    return parameters"
   ]
  },
  {
   "cell_type": "markdown",
   "metadata": {},
   "source": [
    "### Minibatches \n",
    "If we try to put all the samples through our network at once we may run out of memory and our training will be slow. Instead, we implement a helper which will give us batches of the specified size. Each time this function is called the batches will be different due to the permutation in the first line."
   ]
  },
  {
   "cell_type": "code",
   "execution_count": 12,
   "metadata": {
    "collapsed": true
   },
   "outputs": [],
   "source": [
    "def minibatches(X, Y, batch_size):\n",
    "    \"\"\"Generates shuffled mini batches up to the given batch size.\"\"\"\n",
    "    permutation = np.random.permutation(X.shape[1])\n",
    "    for k in range(0, X.shape[1], batch_size):\n",
    "        batch_columns = permutation[k:k+batch_size]\n",
    "        X_mini = X[:,batch_columns]\n",
    "        Y_mini = Y[batch_columns]\n",
    "        yield (X_mini, Y_mini)"
   ]
  },
  {
   "cell_type": "markdown",
   "metadata": {},
   "source": [
    "### Accuracy\n",
    "To make our predictions, we take the outputs of the sigmoid unit and round them to either 0 or 1. Since the values of `predictions == Y` will be 0 (incorrect) or 1 (correct), we can just take the mean to get the accuracy. Also note that `forward_propagation` will return the cached layer information, which we can discard when making predictions. "
   ]
  },
  {
   "cell_type": "code",
   "execution_count": 11,
   "metadata": {
    "collapsed": true
   },
   "outputs": [],
   "source": [
    "def predict(network, X):\n",
    "    outputs, _ = network.forward_propagation(X)\n",
    "    outputs[outputs <= 0.5] = 0\n",
    "    outputs[outputs > 0.5] = 1\n",
    "    return outputs \n",
    "\n",
    "def accuracy(network, X, Y):\n",
    "    predictions = predict(network, X)\n",
    "    return np.mean(predictions == Y)"
   ]
  },
  {
   "cell_type": "markdown",
   "metadata": {},
   "source": [
    "### Training \n",
    "Finally, we can combine all of the above into the training function."
   ]
  },
  {
   "cell_type": "code",
   "execution_count": 23,
   "metadata": {
    "collapsed": true
   },
   "outputs": [],
   "source": [
    "def train(network, X, Y, epochs, learning_rate, batch_size=128, validation_data=None):\n",
    "    \"\"\"Trains a neural network using standard gradient descent.\"\"\"\n",
    "    history = {'train_cost': [], 'val_cost': [], 'train_acc': [], 'val_acc': []}\n",
    "    for epoch in range(epochs):\n",
    "        print(\"\\nStarting Epoch\", epoch+1)\n",
    "        # Training Cost \n",
    "        train_cost = 0\n",
    "        for (mini_X, mini_Y) in minibatches(X, Y, batch_size):\n",
    "            AL, caches = network.forward_propagation(mini_X)\n",
    "            gradients = network.backward_propagation(AL, mini_Y, caches)\n",
    "            train_cost += network.compute_cost(AL, mini_Y)\n",
    "            parameters = gradient_descent_update(network, gradients, learning_rate)\n",
    "        history['train_cost'].append(train_cost)\n",
    "        print(\"Training cost:\", train_cost)\n",
    "        \n",
    "        # Validation Cost\n",
    "        if validation_data:\n",
    "            val_cost = 0\n",
    "            (val_X, val_Y) = validation_data\n",
    "            for (mini_val_X, mini_val_Y) in minibatches(val_X, val_Y, batch_size):\n",
    "                AL, caches = network.forward_propagation(mini_val_X)\n",
    "                val_cost += network.compute_cost(AL, mini_val_Y)\n",
    "            history['val_cost'].append(val_cost)\n",
    "            print(\"Validation cost:\", val_cost)\n",
    "        \n",
    "        # Training Accuracy \n",
    "        train_acc = accuracy(network, X, Y)\n",
    "        history['train_acc'].append(train_acc)\n",
    "        print(\"Training accuracy:\", train_acc)\n",
    "        \n",
    "        # Validation Accuracy\n",
    "        if validation_data: \n",
    "            (val_X, val_Y) = validation_data\n",
    "            val_acc = accuracy(network, val_X, val_Y)\n",
    "            history['val_acc'].append(val_acc)\n",
    "            print(\"Validation accuracy:\", val_acc)\n",
    "    \n",
    "    return history "
   ]
  },
  {
   "cell_type": "markdown",
   "metadata": {},
   "source": [
    "---\n",
    "## Creating and Training a Network\n",
    "Now we can see if our code actually works 😬"
   ]
  },
  {
   "cell_type": "code",
   "execution_count": 24,
   "metadata": {},
   "outputs": [
    {
     "name": "stdout",
     "output_type": "stream",
     "text": [
      "\n",
      "Starting Epoch 1\n",
      "Training cost: 81.81311147972521\n",
      "Validation cost: 54.76631178568013\n",
      "Training accuracy: 0.5035333333333334\n",
      "Validation accuracy: 0.4947\n",
      "\n",
      "Starting Epoch 2\n",
      "Training cost: 81.8058740446145\n",
      "Validation cost: 54.766977184822515\n",
      "Training accuracy: 0.5035333333333334\n",
      "Validation accuracy: 0.4947\n",
      "\n",
      "Starting Epoch 3\n",
      "Training cost: 81.77784515378153\n",
      "Validation cost: 54.757722686259505\n",
      "Training accuracy: 0.49646666666666667\n",
      "Validation accuracy: 0.5053\n",
      "\n",
      "Starting Epoch 4\n",
      "Training cost: 81.79477870307657\n",
      "Validation cost: 54.79882531704647\n",
      "Training accuracy: 0.5035333333333334\n",
      "Validation accuracy: 0.4947\n",
      "\n",
      "Starting Epoch 5\n",
      "Training cost: 81.68425232397135\n",
      "Validation cost: 54.39123148472668\n",
      "Training accuracy: 0.497\n",
      "Validation accuracy: 0.5061\n",
      "\n",
      "Starting Epoch 6\n",
      "Training cost: 68.92074282495307\n",
      "Validation cost: 44.47402263971942\n",
      "Training accuracy: 0.7146666666666667\n",
      "Validation accuracy: 0.7122\n",
      "\n",
      "Starting Epoch 7\n",
      "Training cost: 46.598514332217476\n",
      "Validation cost: 25.6335655450474\n",
      "Training accuracy: 0.8894\n",
      "Validation accuracy: 0.8629\n",
      "\n",
      "Starting Epoch 8\n",
      "Training cost: 38.03285989209398\n",
      "Validation cost: 24.237880246696623\n",
      "Training accuracy: 0.9047333333333333\n",
      "Validation accuracy: 0.8728\n",
      "\n",
      "Starting Epoch 9\n",
      "Training cost: 35.01607546585159\n",
      "Validation cost: 30.197911131769104\n",
      "Training accuracy: 0.8734666666666666\n",
      "Validation accuracy: 0.8376\n",
      "\n",
      "Starting Epoch 10\n",
      "Training cost: 29.569468481687792\n",
      "Validation cost: 25.572684096674976\n",
      "Training accuracy: 0.9078\n",
      "Validation accuracy: 0.8573\n",
      "\n",
      "Starting Epoch 11\n",
      "Training cost: 28.51316133859538\n",
      "Validation cost: 38.977881764475136\n",
      "Training accuracy: 0.8508666666666667\n",
      "Validation accuracy: 0.8196\n",
      "\n",
      "Starting Epoch 12\n",
      "Training cost: 25.972720781710088\n",
      "Validation cost: 50.46256029714784\n",
      "Training accuracy: 0.8321333333333333\n",
      "Validation accuracy: 0.8016\n",
      "\n",
      "Starting Epoch 13\n",
      "Training cost: 22.907338493146487\n",
      "Validation cost: 27.692723992199493\n",
      "Training accuracy: 0.9458666666666666\n",
      "Validation accuracy: 0.8786\n",
      "\n",
      "Starting Epoch 14\n",
      "Training cost: 34.088961853122626\n",
      "Validation cost: 29.29547453631576\n",
      "Training accuracy: 0.9039333333333334\n",
      "Validation accuracy: 0.8491\n",
      "\n",
      "Starting Epoch 15\n",
      "Training cost: 26.92477865695692\n",
      "Validation cost: 27.9291270964739\n",
      "Training accuracy: 0.9271333333333334\n",
      "Validation accuracy: 0.8685\n",
      "\n",
      "Starting Epoch 16\n",
      "Training cost: 21.620775950522216\n",
      "Validation cost: 33.571469782461534\n",
      "Training accuracy: 0.911\n",
      "Validation accuracy: 0.8477\n",
      "\n",
      "Starting Epoch 17\n",
      "Training cost: 31.39464003752993\n",
      "Validation cost: 29.38602100057181\n",
      "Training accuracy: 0.9147333333333333\n",
      "Validation accuracy: 0.8546\n",
      "\n",
      "Starting Epoch 18\n",
      "Training cost: 18.987725566889363\n",
      "Validation cost: 27.657707225722454\n",
      "Training accuracy: 0.9574666666666667\n",
      "Validation accuracy: 0.8755\n",
      "\n",
      "Starting Epoch 19\n",
      "Training cost: 20.271996544396448\n",
      "Validation cost: 32.037688988872354\n",
      "Training accuracy: 0.9357333333333333\n",
      "Validation accuracy: 0.8543\n",
      "\n",
      "Starting Epoch 20\n",
      "Training cost: 12.909778632100858\n",
      "Validation cost: 30.0748274778871\n",
      "Training accuracy: 0.9838666666666667\n",
      "Validation accuracy: 0.8791\n"
     ]
    }
   ],
   "source": [
    "network = Network([10000, 32, 32, 1])\n",
    "history = train(network, x_train, y_train, 20, 0.3, validation_data=(x_val, y_val))"
   ]
  },
  {
   "cell_type": "markdown",
   "metadata": {
    "collapsed": true
   },
   "source": [
    "Similar to before, we can create plots for our loss and accuracy. "
   ]
  },
  {
   "cell_type": "code",
   "execution_count": 25,
   "metadata": {},
   "outputs": [
    {
     "data": {
      "image/png": "[encoded data removed]",
      "text/plain": [
       "<Figure size 432x288 with 1 Axes>"
      ]
     },
     "metadata": {},
     "output_type": "display_data"
    }
   ],
   "source": [
    "import matplotlib.pyplot as plt\n",
    "\n",
    "train_loss = history['train_cost']\n",
    "val_loss = history['val_cost']\n",
    "epochs = range(1, len(train_loss) + 1)\n",
    "\n",
    "plt.plot(epochs, train_loss, 'g', label='Training Loss')\n",
    "plt.plot(epochs, val_loss, 'b', label='Validation Loss')\n",
    "plt.title('Training and Validation Loss')\n",
    "plt.xlabel('Epochs')\n",
    "plt.ylabel('Loss')\n",
    "plt.legend()\n",
    "plt.show()"
   ]
  },
  {
   "cell_type": "code",
   "execution_count": 26,
   "metadata": {},
   "outputs": [
    {
     "data": {
      "image/png": "[encoded data removed]",
      "text/plain": [
       "<Figure size 432x288 with 1 Axes>"
      ]
     },
     "metadata": {},
     "output_type": "display_data"
    }
   ],
   "source": [
    "train_acc = history['train_acc']\n",
    "val_acc = history['val_acc']\n",
    "epochs = range(1, len(train_acc) + 1)\n",
    "\n",
    "plt.clf() \n",
    "plt.plot(epochs, train_acc, 'g', label='Training Accurcy')\n",
    "plt.plot(epochs, val_acc, 'b', label='Validation Accurcy')\n",
    "plt.title('Training and Validation Accuracy')\n",
    "plt.xlabel('Epochs')\n",
    "plt.ylabel('Accuracy')\n",
    "plt.legend()\n",
    "plt.show()"
   ]
  },
  {
   "cell_type": "markdown",
   "metadata": {},
   "source": [
    "Finally, we can see that we are getting 98% training accuracy and 88% validation accuracy. There is clearly some overfitting, but our model is doing a pretty decent job"
   ]
  },
  {
   "cell_type": "code",
   "execution_count": 27,
   "metadata": {},
   "outputs": [
    {
     "name": "stdout",
     "output_type": "stream",
     "text": [
      "Training Accuracy 0.9838666666666667\n",
      "Validation Accuracy 0.8791\n"
     ]
    }
   ],
   "source": [
    "print(\"Training Accuracy\", accuracy(network, x_train, y_train))\n",
    "print(\"Validation Accuracy\", accuracy(network, x_val, y_val))"
   ]
  },
  {
   "cell_type": "markdown",
   "metadata": {},
   "source": [
    "---\n",
    "## Interesting Observations\n",
    "As a final, interesting thing, let's take a look at a review our model incorrectly classified. The following helper function will return the indices of all the wrong predictions in our validation set. Since the validation set is the first 10,000 samples from the training data, we can use these indices to select the reviews from the original data and convert them to their text form."
   ]
  },
  {
   "cell_type": "code",
   "execution_count": 53,
   "metadata": {},
   "outputs": [],
   "source": [
    "def wrong_predictions(network, X, Y, orig_X, orig_Y):\n",
    "    \"\"\"Return reviews that were incorrectly predicted.\"\"\"\n",
    "    predictions = predict(network, X)\n",
    "    wrong_indices = np.where(predictions != Y)[1]\n",
    "    return (orig_X[wrong_indices], orig_Y[wrong_indices])\n",
    "\n",
    "wrong_X, wrong_Y = wrong_predictions(network, x_val, y_val, train_data, train_labels)"
   ]
  },
  {
   "cell_type": "markdown",
   "metadata": {},
   "source": [
    "Now, let's take a look at our first misclassified review."
   ]
  },
  {
   "cell_type": "code",
   "execution_count": 56,
   "metadata": {},
   "outputs": [
    {
     "name": "stdout",
     "output_type": "stream",
     "text": [
      "Review\n",
      "~~~~~~\n",
      "? i hate reading reviews that say something like ? waste your time this film stinks on ice ' it does to that reviewer yet for me it may have some sort of ? charm if you like the other ? series films this one will be watchable if you like 40s ? films this one will be watchable br br this film is not as good in my opinion as any of the earlier series entries which starred richard ? as the protagonist it's much slower and the plot is trite you've seen this same narrative device used in many other films and usually better br br but the acting is good and so is the lighting and the dialog it's just lacking in energy and you'll likely figure out exactly what's going on and how it's all going to come out in the end not more than a quarter of the way through br br the ? series is semi noir and there character mood lighting camera movement and angles are more important than the story itself but this film is not noir it's too light weight and hollywood innocent for that neither richard ? character nor those of any of his ladies in the previous films had to come to a good end you just never knew until the end br br but still i'll recommend this one for at least a single viewing i've watched it at least twice myself and got a reasonable amount of enjoyment out of it both times\n",
      "\n",
      "Sentiment\n",
      "~~~~~~~~~\n",
      "1\n",
      "\n",
      "Prediction\n",
      "~~~~~~~~~\n",
      "0\n"
     ]
    }
   ],
   "source": [
    "print(\"Review\")\n",
    "print(\"~~~~~~\")\n",
    "print(sequence_to_text(wrong_X[0]), end=\"\\n\\n\")\n",
    "\n",
    "print(\"Sentiment\")\n",
    "print(\"~~~~~~~~~\")\n",
    "print(wrong_Y[0], end=\"\\n\\n\")\n",
    "\n",
    "print(\"Prediction\")\n",
    "print(\"~~~~~~~~~\")\n",
    "print(int(predict(network, vectorize_sequences([wrong_X[0]]).T)[0][0]))"
   ]
  },
  {
   "cell_type": "markdown",
   "metadata": {},
   "source": [
    "Pretty intersting right? This is a positi"
   ]
  }
 ],
 "metadata": {
  "kernelspec": {
   "display_name": "Python 3",
   "language": "python",
   "name": "python3"
  },
  "language_info": {
   "codemirror_mode": {
    "name": "ipython",
    "version": 3
   },
   "file_extension": ".py",
   "mimetype": "text/x-python",
   "name": "python",
   "nbconvert_exporter": "python",
   "pygments_lexer": "ipython3",
   "version": "3.6.3"
  }
 },
 "nbformat": 4,
 "nbformat_minor": 2
}
