{
 "cells": [
  {
   "cell_type": "markdown",
   "metadata": {},
   "source": [
    "# Neural Network from Scratch with Autograd"
   ]
  },
  {
   "cell_type": "markdown",
   "metadata": {},
   "source": [
    "---\n",
    "## Introduction \n",
    "Autograd is a library capable of automatically differentiating native Python and Numpy code. It is capable of handling loops, ifs, recursion, and closures. It supports reverse-mode differentiation (used by TensorFlow). Its primary purpose is gradient-based optimization – which happens to be how we train neural networks. Today, we will look at creating a neural network from scratch, and we will use Autograd to assist us in implementing backpropagation. "
   ]
  },
  {
   "cell_type": "markdown",
   "metadata": {},
   "source": [
    "---\n",
    "## Loading Data"
   ]
  },
  {
   "cell_type": "code",
   "execution_count": 5,
   "metadata": {},
   "outputs": [],
   "source": [
    "from keras.datasets import imdb\n",
    "\n",
    "(train_data, train_labels), (test_data, test_labels) = imdb.load_data(num_words=10000)"
   ]
  },
  {
   "cell_type": "markdown",
   "metadata": {},
   "source": [
    "This function will convert reviews from integer sequences to text."
   ]
  },
  {
   "cell_type": "code",
   "execution_count": 6,
   "metadata": {
    "scrolled": true
   },
   "outputs": [
    {
     "name": "stdout",
     "output_type": "stream",
     "text": [
      "Review\n",
      "~~~~~~\n",
      "? this film was just brilliant casting location scenery story direction everyone's really suited the part they played and you could just imagine being there robert ? is an amazing actor and now the same being director ? father came from the same scottish island as myself so i loved the fact there was a real connection with this film the witty remarks throughout the film were great it was just brilliant so much that i bought the film as soon as it was released for ? and would recommend it to everyone to watch and the fly fishing was amazing really cried at the end it was so sad and you know what they say if you cry at a film it must have been good and this definitely was also ? to the two little boy's that played the ? of norman and paul they were just brilliant children are often left out of the ? list i think because the stars that play them all grown up are such a big profile for the whole film but these children are amazing and should be praised for what they have done don't you think the whole story was so lovely because it was true and was someone's life after all that was shared with us all\n",
      "\n",
      "Sentiment\n",
      "~~~~~~~~~\n",
      "1\n"
     ]
    }
   ],
   "source": [
    "def sequence_to_text(sequence):\n",
    "    \"\"\"Converts an integer sequence into the actual review text.\"\"\"\n",
    "    word_index = imdb.get_word_index()\n",
    "    reverse_index = {value: key for (key, value) in word_index.items()}\n",
    "    return ' '.join([reverse_index.get(i - 3, '?') for i in sequence])\n",
    "\n",
    "print(\"Review\")\n",
    "print(\"~~~~~~\")\n",
    "print(sequence_to_text(train_data[0]), end=\"\\n\\n\")\n",
    "\n",
    "print(\"Sentiment\")\n",
    "print(\"~~~~~~~~~\")\n",
    "print(train_labels[0])"
   ]
  },
  {
   "cell_type": "markdown",
   "metadata": {},
   "source": [
    "We have to prepare our data to be fed into a neural network."
   ]
  },
  {
   "cell_type": "code",
   "execution_count": 9,
   "metadata": {},
   "outputs": [],
   "source": [
    "import numpy as np \n",
    "\n",
    "def vectorize_sequences(sequences, dimension=10000):\n",
    "    results = np.zeros((len(sequences), dimension))\n",
    "    for i, sequence in enumerate(sequences):\n",
    "        results[i, sequence] = 1\n",
    "    return results\n",
    "\n",
    "# Vectorize our input data \n",
    "vectorized_train_data = vectorize_sequences(train_data)\n",
    "vectorized_test_data = vectorize_sequences(test_data)\n",
    "\n",
    "# Vectorize our label data as well \n",
    "vectorized_train_labels = np.asarray(train_labels).astype('float32')\n",
    "vectorized_test_labels = np.asarray(test_labels).astype('float32')"
   ]
  },
  {
   "cell_type": "markdown",
   "metadata": {},
   "source": [
    "Let's check the shape of our data "
   ]
  },
  {
   "cell_type": "code",
   "execution_count": 22,
   "metadata": {},
   "outputs": [
    {
     "name": "stdout",
     "output_type": "stream",
     "text": [
      "Input Data\n",
      "Train Data (25000, 10000)\n",
      "Test Data (25000, 10000)\n",
      "\n",
      "Output Data\n",
      "Train Labels (25000,)\n",
      "Train Labels (25000,)\n"
     ]
    }
   ],
   "source": [
    "print('Input Data')\n",
    "print('Train Data', vectorized_train_data.shape)\n",
    "print('Test Data', vectorized_test_data.shape)\n",
    "\n",
    "print('\\nOutput Data')\n",
    "print('Train Labels', vectorized_train_labels.shape)\n",
    "print('Train Labels', vectorized_test_labels.shape)"
   ]
  },
  {
   "cell_type": "markdown",
   "metadata": {},
   "source": [
    "Now let's creating a training and validation set."
   ]
  },
  {
   "cell_type": "code",
   "execution_count": 10,
   "metadata": {
    "collapsed": true
   },
   "outputs": [],
   "source": [
    "# Separate input data\n",
    "x_val = vectorized_train_data[:10000]\n",
    "x_train = vectorized_train_data[10000:]\n",
    "\n",
    "# Separate labels \n",
    "y_val = vectorized_train_labels[:10000]\n",
    "y_train_partial = vectorized_train_labels[10000:]"
   ]
  },
  {
   "cell_type": "markdown",
   "metadata": {},
   "source": [
    "--- \n",
    "## Step 1: Initializing Parameters"
   ]
  },
  {
   "cell_type": "code",
   "execution_count": 51,
   "metadata": {
    "collapsed": true
   },
   "outputs": [],
   "source": [
    "import autograd.numpy as np \n",
    "from autograd import grad\n",
    "\n",
    "def init_parameters(sizes):\n",
    "    \"\"\"Initialize weights for a network with the given layer sizs.\"\"\"\n",
    "    parameters = {} \n",
    "    for i in range(1, len(sizes)):\n",
    "        parameters['W' + str(i)] = np.random.randn(sizes[i-1], sizes[i]) * 0.01\n",
    "        parameters['b' + str(i)] = np.zeros((sizes[i], 1))\n",
    "    return parameters"
   ]
  },
  {
   "cell_type": "markdown",
   "metadata": {},
   "source": [
    "Let's create some parameters to see what this looks like."
   ]
  },
  {
   "cell_type": "code",
   "execution_count": 47,
   "metadata": {},
   "outputs": [
    {
     "name": "stdout",
     "output_type": "stream",
     "text": [
      "W1 (10000, 32)\n",
      "b1 (32, 1)\n",
      "W2 (32, 1)\n",
      "b2 (1, 1)\n"
     ]
    }
   ],
   "source": [
    "parameters = init_parameters([10000, 32, 1])\n",
    "for i in range(1, len(parameters) // 2 + 1):\n",
    "    print('W' + str(i), parameters['W' + str(i)].shape)\n",
    "    print('b' + str(i), parameters['b' + str(i)].shape)"
   ]
  },
  {
   "cell_type": "markdown",
   "metadata": {},
   "source": [
    "---\n",
    "## Step 2: Forward Propagation"
   ]
  },
  {
   "cell_type": "markdown",
   "metadata": {},
   "source": [
    "### Activation Functions\n",
    "We will start by defining our non-linearities"
   ]
  },
  {
   "cell_type": "code",
   "execution_count": 48,
   "metadata": {
    "collapsed": true
   },
   "outputs": [],
   "source": [
    "def relu(Z):\n",
    "    return np.maximum(Z, 0)\n",
    "\n",
    "def sigmoid(Z):\n",
    "    return 1 / (1 + np.exp(-Z))"
   ]
  },
  {
   "cell_type": "markdown",
   "metadata": {},
   "source": [
    "### Single Layer Computation"
   ]
  },
  {
   "cell_type": "code",
   "execution_count": 49,
   "metadata": {
    "collapsed": true
   },
   "outputs": [],
   "source": [
    "def feed_forward_step(A, W, b, activation):\n",
    "    \"\"\"Performs one step of forward propagation\"\"\"\n",
    "    Z = np.dot(A, W) + b\n",
    "    return activation(Z)"
   ]
  },
  {
   "cell_type": "markdown",
   "metadata": {},
   "source": [
    "Let's test that this works manually"
   ]
  },
  {
   "cell_type": "code",
   "execution_count": 55,
   "metadata": {},
   "outputs": [
    {
     "name": "stdout",
     "output_type": "stream",
     "text": [
      "Layer Dimensions\n",
      "Input (32, 10000)\n",
      "Hidden (32, 32)\n",
      "Output (32, 1)\n",
      "Output\n",
      "[[0.72559597]\n",
      " [0.72621343]\n",
      " [0.72639743]\n",
      " [0.72604409]\n",
      " [0.72640842]]\n"
     ]
    }
   ],
   "source": [
    "A0 = x_train[:32]\n",
    "A1 = feed_forward_step(A0, parameters['W1'], parameters['b1'], relu)\n",
    "A2 = feed_forward_step(A1, parameters['W2'], parameters['b2'], sigmoid)\n",
    "\n",
    "print('Layer Dimensions')\n",
    "print('Input', A0.shape)\n",
    "print('Hidden', A1.shape)\n",
    "print('Output', A2.shape)\n",
    "\n",
    "print('Output')\n",
    "print(A2[:5])"
   ]
  },
  {
   "cell_type": "markdown",
   "metadata": {},
   "source": [
    "### Forward Propagation"
   ]
  },
  {
   "cell_type": "code",
   "execution_count": 57,
   "metadata": {
    "collapsed": true
   },
   "outputs": [],
   "source": [
    "def feed_forward(X, parameters, activations):\n",
    "    \"\"\"Performs forward propagation for the given examples.\"\"\"\n",
    "    A = X\n",
    "    for i in range(1, len(parameters) // 2 + 1):\n",
    "        W = parameters['W' + str(i)]\n",
    "        b = parameters['b' + str(i)]\n",
    "        activation = activations[i]\n",
    "        A = feed_forward_step(A, W, b, activation)\n",
    "    return A"
   ]
  },
  {
   "cell_type": "markdown",
   "metadata": {},
   "source": [
    "We can confirm that this is correct by checking our previous example."
   ]
  },
  {
   "cell_type": "code",
   "execution_count": 59,
   "metadata": {},
   "outputs": [
    {
     "name": "stdout",
     "output_type": "stream",
     "text": [
      "[[0.72559597]\n",
      " [0.72621343]\n",
      " [0.72639743]\n",
      " [0.72604409]\n",
      " [0.72640842]]\n"
     ]
    }
   ],
   "source": [
    "activations = [None, relu, sigmoid]\n",
    "out = feed_forward(A0, parameters, activations)\n",
    "print(out[:5])"
   ]
  },
  {
   "cell_type": "markdown",
   "metadata": {},
   "source": [
    "---\n",
    "## Step 3: Defining an Objective Function"
   ]
  },
  {
   "cell_type": "code",
   "execution_count": null,
   "metadata": {
    "collapsed": true
   },
   "outputs": [],
   "source": []
  }
 ],
 "metadata": {
  "kernelspec": {
   "display_name": "Python 3",
   "language": "python",
   "name": "python3"
  },
  "language_info": {
   "codemirror_mode": {
    "name": "ipython",
    "version": 3
   },
   "file_extension": ".py",
   "mimetype": "text/x-python",
   "name": "python",
   "nbconvert_exporter": "python",
   "pygments_lexer": "ipython3",
   "version": "3.6.3"
  }
 },
 "nbformat": 4,
 "nbformat_minor": 2
}
