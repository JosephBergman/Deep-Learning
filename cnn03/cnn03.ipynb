{
 "cells": [
  {
   "cell_type": "markdown",
   "metadata": {},
   "source": [
    "# Improving our Convnet with Pretrained Models"
   ]
  },
  {
   "cell_type": "markdown",
   "metadata": {},
   "source": [
    "---\n",
    "## Introduction \n",
    "In the previous post, we trained a convnet from scratch to classify photos as either \"food\" or \"notfood\". We used the [Food-5K](https://mmspg.epfl.ch/food-image-datasets) dataset, and we were able to achieve 84.3% test accuracy. In the process, we learned how to work with a real world dataset and use data augmentation to reduce overfitting in our bias. \n",
    "\n",
    "Today, we are going to try to improve our Food vs. Not Food classifier by using pretrained networks. Pretained networks are models that have been previously trained on large, general image datasets. As a result, they provide more powerful feature extractors than we can learn on our own with our small dataset. Keras provides a number of pretrained models so we can easily incorporate them into our work. \n",
    "\n",
    "We will begin by looking at some of the models provided by Keras, and then we will use one to improve our classifier. "
   ]
  },
  {
   "cell_type": "markdown",
   "metadata": {},
   "source": [
    "---\n",
    "## Pretrained Convnets in Keras\n",
    "\n",
    "### Models Available\n",
    "The following pretrained convnets are made available by Keras\n",
    "+ [Xception](https://keras.io/applications/#xception)\n",
    "+ [VGG16](https://keras.io/applications/#vgg16)\n",
    "+ [VGG19](https://keras.io/applications/#vgg19)\n",
    "+ [ResNet50](https://keras.io/applications/#resnet50)\n",
    "+ [InceptionV3](https://keras.io/applications/#inceptionv3)\n",
    "+ [InceptionResNetV2](https://keras.io/applications/#inceptionresnetv2)\n",
    "+ [MobileNet](https://keras.io/applications/#mobilenet)\n",
    "+ [DenseNet](https://keras.io/applications/#densenet)\n",
    "+ [NASNet](https://keras.io/applications/#nasnet)\n",
    "+ [MobileNetV2](https://keras.io/applications/#mobilenetv2)\n",
    "\n",
    "### How Were They Trained?\n",
    "These networks were mostly trained on ImageNet, which is summarized by [Wikipedia](https://en.wikipedia.org/wiki/ImageNe) as follows\n",
    "\n",
    "> The ImageNet project is a large visual database designed for use in visual object recognition software research. Over 14 million URLs of images have been hand-annotated by ImageNet to indicate what objects are pictured; in at least one million of the images, bounding boxes are also provided. ImageNet contains over 20 thousand categories; a typical category, such as \"balloon\" or \"strawberry\", contains several hundred images.\n",
    "\n",
    "Many models have been trained on ImageNet due to the annual [ImageNet challenge](http://image-net.org/challenges/LSVRC/)\n",
    "\n",
    "> The ImageNet Large Scale Visual Recognition Challenge (ILSVRC) evaluates algorithms for object detection and image classification at large scale. One high level motivation is to allow researchers to compare progress in detection across a wider variety of objects -- taking advantage of the quite expensive labeling effort. Another motivation is to measure the progress of computer vision for large scale image indexing for retrieval and annotation.\n",
    "\n",
    "In the challenge, the ImageNet dataset is trimmed to objects within 1000 categories. \n",
    "\n",
    "### Comparison of Available Models\n",
    "The Keras documentation provides the following summary of the models listed above\n",
    "\n",
    "|Model\t            |Size\t |Top-1 Accuracy\t|Top-5 Accuracy\t|Parameters\t |Depth |\n",
    "|:------------------|:-------|:----------------:|:-------------:|:----------:|:----:|\n",
    "|Xception\t        |88 MB\t |0.790\t            |0.945\t        |22,910,480\t |126   |\n",
    "|VGG16\t            |528 MB\t |0.713\t            |0.901\t        |138,357,544 |23    |\n",
    "|VGG19\t            |549 MB\t |0.713\t            |0.900\t        |143,667,240 |26    |\n",
    "|ResNet50\t        |99 MB\t |0.749\t            |0.921\t        |25,636,712\t |168   |\n",
    "|InceptionV3\t    |92 MB\t |0.779\t            |0.937\t        |23,851,784\t |159   |\n",
    "|InceptionResNetV2\t|215 MB\t |0.803\t            |0.953\t        |55,873,736\t |572   |\n",
    "|MobileNet\t        |16 MB\t |0.704\t            |0.895\t        |4,253,864\t |88    |\n",
    "|MobileNetV2\t    |14 MB\t |0.713\t            |0.901\t        |3,538,984\t |88    |\n",
    "|DenseNet121\t    |33 MB\t |0.750\t            |0.923\t        |8,062,504\t |121   |\n",
    "|DenseNet169\t    |57 MB\t |0.762\t            |0.932\t        |14,307,880\t |169   |\n",
    "|DenseNet201\t    |80 MB\t |0.773\t            |0.936\t        |20,242,984\t |201   |\n",
    "|NASNetMobile\t    |23 MB\t |0.744\t            |0.919\t        |5,326,716\t |-     |\n",
    "|NASNetLarge\t    |343 MB\t |0.825\t            |0.960\t        |88,949,818\t |-     |\n",
    "\n",
    "The Top-1 accuracy measures what percentage of images these got exactly right. The Top-5 accuracy considers an object correctly classified it its true class is withing the top five predicted class. For instance, if a model outputs go-kart, jeep, convertible, minivan, and cab as its top 5 predictions, and the object is really a convertible, then that is considered a correct classification.\n",
    "\n",
    "### Brief Summary of Models\n",
    "The [Deep Learning Specialization](https://www.coursera.org/learn/convolutional-neural-networks/home/welcome) covers VGG16, ResNet50, and InceptionV3 which I will quickly summarize below. \n",
    "\n",
    "#### VGG16\n",
    "As you may have noticed, neural networks have many hyperparameters: how many layers should there be, how many nodes should each layer have, etc. VGG-16 is a large neural network which tried to simplify this. Every convolution layer uses 3x3 filters with same padding, and all pooling layers are max-pool layers with 2x2 filters and strides (meaning they halve the input size). The number of filters in each convolution layer follows a \"powers of 2\" pattern: 64, 128, 256, 512, 512. There are two fully connected layers containing 4096 nodes each, and a final softmax layer with 1000 notes. As you can see, it is a fairly massive network with 138,357,544 weights. The \"16\" in \"VGG16\" refers to the fact that there are 16 layers with trainable weights. \n",
    "\n",
    "Here is the paper: [Very Deep Convolutional Networks for Large-Scale Image Recognition](https://arxiv.org/abs/1409.1556)\n",
    "\n",
    "#### ResNet50 \n",
    "Very deep neural networks are difficult to train because of vanishing/exploding gradients. ResNets try to solve this problem by using \"Residual Blocks\". In a residual block, the input to layer $l$ will also be fed directly into layer $l+1$. This makes it easy for layer $l$ to learn an identity function – which means that even if layer $l$ isn't helping the network, it at least won't be hurting the network. As a result, ResNets can be very deep networks enabling them to learn very high-level features. \n",
    "\n",
    "Here is the paper: [Deep Residual Learning for Visual Recognition](https://arxiv.org/abs/1512.03385)\n",
    "\n",
    "#### InceptionV3\n",
    "Whereas VGG16 tried to simplify convnets by saying, \"Let's just always use 3x3 filters,\" Inception networks try to simplify convnets by saying, \"Let's just use every sized filter, for every layer, and let the network decide what works best.\" By using same padding with each convolution operation, an inception block can use 1x1, 3x3, 5x5, etc. filters in every layer of the network. There are some tricks to implementing this that reduce the number of computations by about a factor of 10, so I would recommend checking out the Coursera lecture on Inception nets or the original paper to understand the implementation. Of the three networks discussed, InceptionV3 has the best Top-1 and Top-5 accuracy, so we'll use it as our base model. \n",
    "\n",
    "Original Inception paper: [Going Deeper with Convolutions](https://arxiv.org/abs/1409.4842)\n",
    "\n",
    "InceptionV3 paper: [Rethinking the Inception Architecture for Computer Vision](https://arxiv.org/abs/1512.00567)"
   ]
  },
  {
   "cell_type": "markdown",
   "metadata": {},
   "source": [
    "---\n",
    "## Using Pretrained Models \n",
    "VGG16, ResNet50, and InceptionV3 have been trained on very large datasets – far larger than our 2,500 food pictures. Because they have been trained on such a large dataset, they should have learned very general features about images. The idea behind using pretrained models is that we can use the pretrained convolutional layers to extract features from our image, then we can train our own densely connected layers to generate predictions. We are going to use InceptionV3 as our feature extractor and train a densely connected network using its outputs. \n",
    "\n",
    "The code below imports the InceptionV3 model (be patient while it downloads ⌚️👀). The parameters are pretty important to understand. `include_top=False` means we don't want to load the densely connected layers that were trained for predicting ImageNet. Instead, we just want to use the convolutional base to extract features, and we wil train our own classifier for classifying between food and non-food images. `weights='imagenet` means we want to use the pretrained weights from ImageNet. If you exclude this paramater the weights will be randomly initialized which won't be very helpful for extracting features. Finally, we specify the input shape we want to use."
   ]
  },
  {
   "cell_type": "code",
   "execution_count": 26,
   "metadata": {},
   "outputs": [],
   "source": [
    "from keras.applications import InceptionV3\n",
    "\n",
    "# Use only the convolutional layers pretrained on ImageNet\n",
    "conv_base = InceptionV3(include_top=False, \n",
    "                        weights='imagenet', \n",
    "                        input_shape=(150, 150, 3))"
   ]
  },
  {
   "cell_type": "markdown",
   "metadata": {},
   "source": [
    "In order to feed the outputs of InceptionV3 into our own classifier we need to know their dimensions and reshape them into a 1D tensor. This is simple to do in Keras."
   ]
  },
  {
   "cell_type": "code",
   "execution_count": 25,
   "metadata": {
    "scrolled": true
   },
   "outputs": [
    {
     "name": "stdout",
     "output_type": "stream",
     "text": [
      "Output Dimension (None, 3, 3, 2048)\n"
     ]
    }
   ],
   "source": [
    "print('Output Dimension', conv_base.output_shape)"
   ]
  },
  {
   "cell_type": "markdown",
   "metadata": {},
   "source": [
    "--- \n",
    "## Preparing our Data\n",
    "We could train our model by feeding every image through InceptionV3 during each epoch of training. This would be incredibly expensive though. After all, we only need the output of InceptionV3, and that never changes since we aren't training the convolutional base. Instead, we will pre-process our data by feeding it through InceptionV3, storing the outputs, and using that to train our densely connected layers. "
   ]
  },
  {
   "cell_type": "code",
   "execution_count": 11,
   "metadata": {
    "scrolled": true
   },
   "outputs": [
    {
     "name": "stdout",
     "output_type": "stream",
     "text": [
      "Found 3000 images belonging to 2 classes.\n",
      "Found 1000 images belonging to 2 classes.\n",
      "Found 1000 images belonging to 2 classes.\n"
     ]
    }
   ],
   "source": [
    "import os \n",
    "import numpy as np\n",
    "from keras.preprocessing.image import ImageDataGenerator\n",
    "\n",
    "# Define directories \n",
    "base_dir = '/Users/jtbergman/Datasets/Food-5K'\n",
    "train_dir = os.path.join(base_dir, 'train')\n",
    "val_dir = os.path.join(base_dir, 'validation')\n",
    "test_dir = os.path.join(base_dir, 'test')\n",
    "\n",
    "# Define Image Data Generator \n",
    "datagen = ImageDataGenerator(rescale=1./255)\n",
    "batch_size = 20 \n",
    "\n",
    "# Feature Extraction \n",
    "def extract_features(directory, sample_count):\n",
    "    features = np.zeros(shape=(sample_count, 3, 3, 2048))\n",
    "    labels = np.zeros(shape=(sample_count))\n",
    "    generator = datagen.flow_from_directory(\n",
    "        directory, \n",
    "        target_size=(150,150),\n",
    "        batch_size=20,\n",
    "        class_mode='binary')\n",
    "    i = 0\n",
    "    for x_batch, y_batch in generator:\n",
    "        features_batch = conv_base.predict(x_batch)\n",
    "        features[i * batch_size : (i + 1) * batch_size] = features_batch\n",
    "        labels[i * batch_size : (i + 1) * batch_size] = y_batch\n",
    "        i += 1\n",
    "        if i * batch_size >= sample_count:\n",
    "            break\n",
    "    return features, labels\n",
    "\n",
    "\n",
    "train_features, train_labels = extract_features(train_dir, 3000) \n",
    "validation_features, validation_labels = extract_features(val_dir, 1000) \n",
    "test_features, test_labels = extract_features(test_dir, 1000)"
   ]
  },
  {
   "cell_type": "markdown",
   "metadata": {},
   "source": [
    "We need to shape our data into 1D tensors for our densely connected network. "
   ]
  },
  {
   "cell_type": "code",
   "execution_count": 13,
   "metadata": {},
   "outputs": [],
   "source": [
    "train_features = np.reshape(train_features, (3000, 3 * 3 * 2048))\n",
    "validation_features = np.reshape(validation_features, (1000, 3 * 3 * 2048))\n",
    "test_features = np.reshape(test_features, (1000, 3 * 3 * 2048))"
   ]
  },
  {
   "cell_type": "markdown",
   "metadata": {},
   "source": [
    "---\n",
    "## Training our Model\n",
    "Because the InceptionV3 convolutional base is such a powerful feature extractor, we will be able to learn very quickly. Because of this, we will use a dense layer with 256 nodes and a sigmoid output. We will use a dropout layer with a 50% dropout rate. Furthermore, we `import optimizers` so we can set a learning rate of 0.00002 for RMSprop. Despite the high drop rate and low learning rate, our model will learn incredibly fast. You should achieve ~90% accuracy after one epoch, 95% accuracy within three epochs, and 99+% accuracy within 10 epochs."
   ]
  },
  {
   "cell_type": "code",
   "execution_count": 16,
   "metadata": {},
   "outputs": [],
   "source": [
    "from keras import models \n",
    "from keras import layers \n",
    "from keras import optimizers\n",
    "\n",
    "model = models.Sequential() \n",
    "model.add(layers.Dense(256, activation='relu', input_dim=3 * 3 * 2048))\n",
    "model.add(layers.Dropout(0.5))\n",
    "model.add(layers.Dense(1, activation='sigmoid'))\n",
    "\n",
    "model.compile(optimizer=optimizers.RMSprop(lr=2e-5),\n",
    "              loss='binary_crossentropy',\n",
    "              metrics=['acc'])"
   ]
  },
  {
   "cell_type": "markdown",
   "metadata": {},
   "source": [
    "Note: Since we've already passed the data through InceptionV3, this should run in under 2 minutes."
   ]
  },
  {
   "cell_type": "code",
   "execution_count": 17,
   "metadata": {
    "scrolled": true
   },
   "outputs": [
    {
     "name": "stdout",
     "output_type": "stream",
     "text": [
      "Train on 3000 samples, validate on 1000 samples\n",
      "Epoch 1/10\n",
      "3000/3000 [==============================] - 13s 4ms/step - loss: 0.2737 - acc: 0.9030 - val_loss: 0.0919 - val_acc: 0.9750\n",
      "Epoch 2/10\n",
      "3000/3000 [==============================] - 10s 3ms/step - loss: 0.1100 - acc: 0.9663 - val_loss: 0.1064 - val_acc: 0.9690\n",
      "Epoch 3/10\n",
      "3000/3000 [==============================] - 11s 4ms/step - loss: 0.0787 - acc: 0.9740 - val_loss: 0.0865 - val_acc: 0.9750\n",
      "Epoch 4/10\n",
      "3000/3000 [==============================] - 11s 4ms/step - loss: 0.0608 - acc: 0.9803 - val_loss: 0.0997 - val_acc: 0.9680\n",
      "Epoch 5/10\n",
      "3000/3000 [==============================] - 11s 4ms/step - loss: 0.0460 - acc: 0.9847 - val_loss: 0.0896 - val_acc: 0.9740\n",
      "Epoch 6/10\n",
      "3000/3000 [==============================] - 12s 4ms/step - loss: 0.0373 - acc: 0.9870 - val_loss: 0.0962 - val_acc: 0.9760\n",
      "Epoch 7/10\n",
      "3000/3000 [==============================] - 13s 4ms/step - loss: 0.0202 - acc: 0.9940 - val_loss: 0.1024 - val_acc: 0.9730\n",
      "Epoch 8/10\n",
      "3000/3000 [==============================] - 10s 3ms/step - loss: 0.0194 - acc: 0.9940 - val_loss: 0.1051 - val_acc: 0.9760\n",
      "Epoch 9/10\n",
      "3000/3000 [==============================] - 12s 4ms/step - loss: 0.0127 - acc: 0.9953 - val_loss: 0.1026 - val_acc: 0.9760\n",
      "Epoch 10/10\n",
      "3000/3000 [==============================] - 11s 4ms/step - loss: 0.0129 - acc: 0.9950 - val_loss: 0.1017 - val_acc: 0.9750\n"
     ]
    }
   ],
   "source": [
    "history = model.fit(train_features, train_labels,\n",
    "                    epochs=10,\n",
    "                    batch_size=20,\n",
    "                    verbose=1,\n",
    "                    validation_data=(validation_features, validation_labels))"
   ]
  },
  {
   "cell_type": "markdown",
   "metadata": {},
   "source": [
    "As always, let's plot our training and validation accuracy and loss. "
   ]
  },
  {
   "cell_type": "code",
   "execution_count": 20,
   "metadata": {
    "scrolled": true
   },
   "outputs": [
    {
     "data": {
      "image/png": "[encoded data removed]",
      "text/plain": [
       "<Figure size 432x288 with 1 Axes>"
      ]
     },
     "metadata": {},
     "output_type": "display_data"
    },
    {
     "data": {
      "image/png": "[encoded data removed]",
      "text/plain": [
       "<Figure size 432x288 with 1 Axes>"
      ]
     },
     "metadata": {},
     "output_type": "display_data"
    }
   ],
   "source": [
    "import matplotlib.pyplot as plt\n",
    "\n",
    "# Accuracy \n",
    "acc = history.history['acc']\n",
    "val_acc = history.history['val_acc']\n",
    "loss = history.history['loss']\n",
    "val_loss = history.history['val_loss']\n",
    "\n",
    "# Epochs\n",
    "epochs = range(1, len(acc) + 1)\n",
    "\n",
    "# Loss and Accuracy\n",
    "plt.plot(epochs, loss, 'g', label='Training loss')\n",
    "plt.plot(epochs, val_loss, 'b', label='Validation loss')\n",
    "plt.title('Training and validation loss')\n",
    "plt.legend()\n",
    "\n",
    "plt.figure()\n",
    "\n",
    "plt.plot(epochs, acc, 'g', label='Training acc')\n",
    "plt.plot(epochs, val_acc, 'b', label='Validation acc')\n",
    "plt.title('Training and validation accuracy')\n",
    "plt.legend()\n",
    "\n",
    "plt.show()"
   ]
  },
  {
   "cell_type": "markdown",
   "metadata": {},
   "source": [
    "Despite the high drop rate, there's still considerable overfitting. Nevertheless, we are performing significantly better than our 84.3% accuracy from the previous post. In fact, our test accuracy has increased by ~13%!"
   ]
  },
  {
   "cell_type": "code",
   "execution_count": 22,
   "metadata": {},
   "outputs": [
    {
     "name": "stdout",
     "output_type": "stream",
     "text": [
      "1000/1000 [==============================] - 0s 439us/step\n",
      "Test Accuracy 0.973\n"
     ]
    }
   ],
   "source": [
    "test_loss, test_acc = model.evaluate(test_features, test_labels)\n",
    "print('Test Accuracy', test_acc)"
   ]
  },
  {
   "cell_type": "markdown",
   "metadata": {},
   "source": [
    "---\n",
    "## Training a Final Model\n",
    "We will combine our training and validation datasets into a slightly larger dataset and train our final model."
   ]
  },
  {
   "cell_type": "code",
   "execution_count": 28,
   "metadata": {},
   "outputs": [
    {
     "name": "stdout",
     "output_type": "stream",
     "text": [
      "(4000, 18432)\n",
      "(4000,)\n"
     ]
    }
   ],
   "source": [
    "# Combine into one dataset\n",
    "all_train_features = np.concatenate((train_features, validation_features))\n",
    "all_train_labels = np.concatenate((train_labels, validation_labels))\n",
    "\n",
    "# Check shape \n",
    "print(all_train_features.shape)\n",
    "print(all_train_labels.shape)"
   ]
  },
  {
   "cell_type": "markdown",
   "metadata": {},
   "source": [
    "We'll define the same architecture as before and train it for the same number of epochs."
   ]
  },
  {
   "cell_type": "code",
   "execution_count": 30,
   "metadata": {},
   "outputs": [
    {
     "name": "stdout",
     "output_type": "stream",
     "text": [
      "Epoch 1/10\n",
      "4000/4000 [==============================] - 16s 4ms/step - loss: 0.2532 - acc: 0.9185: 9s - loss: - ETA: 7s - loss: 0.30 - ETA: 2s \n",
      "Epoch 2/10\n",
      "4000/4000 [==============================] - 13s 3ms/step - loss: 0.1086 - acc: 0.9642\n",
      "Epoch 3/10\n",
      "4000/4000 [==============================] - 14s 3ms/step - loss: 0.0806 - acc: 0.9720: 6s - loss: 0\n",
      "Epoch 4/10\n",
      "4000/4000 [==============================] - 14s 3ms/step - loss: 0.0474 - acc: 0.9830: 0s - loss: 0.0470 - acc: - ETA: 0s - loss: 0.0477 - acc: 0.98\n",
      "Epoch 5/10\n",
      "4000/4000 [==============================] - 14s 3ms/step - loss: 0.0376 - acc: 0.9850: 4s - loss:\n",
      "Epoch 6/10\n",
      "4000/4000 [==============================] - 14s 3ms/step - loss: 0.0316 - acc: 0.9895\n",
      "Epoch 7/10\n",
      "4000/4000 [==============================] - 15s 4ms/step - loss: 0.0241 - acc: 0.9912\n",
      "Epoch 8/10\n",
      "4000/4000 [==============================] - 14s 4ms/step - loss: 0.0187 - acc: 0.9932\n",
      "Epoch 9/10\n",
      "4000/4000 [==============================] - ETA: 0s - loss: 0.0141 - acc: 0.995 - 14s 3ms/step - loss: 0.0141 - acc: 0.9955\n",
      "Epoch 10/10\n",
      "4000/4000 [==============================] - 14s 3ms/step - loss: 0.0082 - acc: 0.9975\n"
     ]
    }
   ],
   "source": [
    "from keras import models \n",
    "from keras import layers \n",
    "from keras import optimizers\n",
    "\n",
    "# Same architecture\n",
    "food = models.Sequential() \n",
    "food.add(layers.Dense(256, activation='relu', input_dim=3 * 3 * 2048))\n",
    "food.add(layers.Dropout(0.5))\n",
    "food.add(layers.Dense(1, activation='sigmoid'))\n",
    "\n",
    "# Same compilation\n",
    "food.compile(optimizer=optimizers.RMSprop(lr=2e-5),\n",
    "              loss='binary_crossentropy',\n",
    "              metrics=['acc'])\n",
    "\n",
    "# New training set\n",
    "history = food.fit(all_train_features, all_train_labels,\n",
    "                    epochs=10,\n",
    "                    batch_size=20,\n",
    "                    verbose=1)"
   ]
  },
  {
   "cell_type": "markdown",
   "metadata": {},
   "source": [
    "Let's evaluate our model on our test set and see how frequently we're accidentally going to eat not food."
   ]
  },
  {
   "cell_type": "code",
   "execution_count": 44,
   "metadata": {},
   "outputs": [
    {
     "name": "stdout",
     "output_type": "stream",
     "text": [
      "1000/1000 [==============================] - 2s 2ms/step\n",
      "Test Accuracy 0.973\n"
     ]
    }
   ],
   "source": [
    "test_loss, test_acc = food.evaluate(test_features, test_labels)\n",
    "print('Test Accuracy', test_acc)"
   ]
  },
  {
   "cell_type": "markdown",
   "metadata": {},
   "source": [
    "We end up getting the same accuracy as before, but hey, 97.3% is pretty good! You can try training for more epochs and seeing if it improves the accuracy."
   ]
  },
  {
   "cell_type": "markdown",
   "metadata": {},
   "source": [
    "---\n",
    "## A Final Note\n",
    "In order to make predictions with our model, any inputs have to be fed through the convolutional base first – we can't just feed them directly to our model, that's not what it learned to make predictions on. For instance, we would do something like \n",
    "```python \n",
    "data = ...\n",
    "processed_data = conv_base.predict(data)\n",
    "processed_data = processed_data.reshape(...)\n",
    "predictions = food.predict(processed_data)\n",
    "```\n",
    "\n",
    "It may be cleaner to combine the convolutional base and our top layers in a single layer so we can do. This would also make it easier to save the model in case Keras changes the InceptionV3 weight initialization. \n",
    "```python \n",
    "data = ... \n",
    "predictions = final.predict(data)\n",
    "```\n",
    "\n",
    "Fortunately, Keras makes it easier to combine models by treating them like layers. We simply add the convolutional base first, then a flattening layer (since we can't np.reshape()), then add our dense classifier on top. "
   ]
  },
  {
   "cell_type": "code",
   "execution_count": 39,
   "metadata": {
    "collapsed": true
   },
   "outputs": [],
   "source": [
    "# Create a single final model\n",
    "final = models.Sequential()\n",
    "\n",
    "# Conv Base + Flatten + Our Classifier \n",
    "final.add(conv_base)\n",
    "final.add(layers.Flatten())\n",
    "final.add(food)\n",
    "\n",
    "# Compile the model\n",
    "final.compile(optimizer=optimizers.RMSprop(lr=2e-5),\n",
    "              loss='binary_crossentropy',\n",
    "              metrics=['acc'])"
   ]
  },
  {
   "cell_type": "markdown",
   "metadata": {},
   "source": [
    "To show that this gives the same results, let's feed the test data through again. "
   ]
  },
  {
   "cell_type": "code",
   "execution_count": 43,
   "metadata": {},
   "outputs": [
    {
     "name": "stdout",
     "output_type": "stream",
     "text": [
      "Found 1000 images belonging to 2 classes.\n",
      "Accuracy: 0.9729999947547913\n"
     ]
    }
   ],
   "source": [
    "# Create a datagenerator for data that has not been preprocessed by InceptionV3\n",
    "test_generator = datagen.flow_from_directory(\n",
    "    test_dir, \n",
    "    target_size=(150,150),\n",
    "    class_mode='binary',\n",
    "    batch_size=20)\n",
    "\n",
    "# Display the accuracy \n",
    "loss, acc = final.evaluate_generator(test_generator, steps=50, use_multiprocessing=False)\n",
    "print('Accuracy:', acc)"
   ]
  },
  {
   "cell_type": "markdown",
   "metadata": {},
   "source": [
    "Feel free to save this model. GitHub will complain if I try to push a 100mb model, so I am actually just going to save the layers we trained. Feel free to replace `food` with `final` if you want to save the entire thing."
   ]
  },
  {
   "cell_type": "code",
   "execution_count": 45,
   "metadata": {
    "collapsed": true
   },
   "outputs": [],
   "source": [
    "food.save('food_vs_notfood_v3.h5')"
   ]
  },
  {
   "cell_type": "markdown",
   "metadata": {},
   "source": [
    "---\n",
    "## Summary\n",
    "Despite having a small training set (3,000 images) we were able to get 97.3% accuracy on our test set! We did this by using a pretrained model to perform feature extraction. Here are the key takeaways.\n",
    "\n",
    "### Using Pretrained Models\n",
    "Use pretrained models with `include_top=False` to build your own models on top of them.\n",
    "```python\n",
    "from keras.applications import InceptionV3\n",
    "\n",
    "# Use only the convolutional layers pretrained on ImageNet\n",
    "conv_base = InceptionV3(include_top=False, \n",
    "                        weights='imagenet', \n",
    "                        input_shape=(150, 150, 3))\n",
    "```\n",
    "\n",
    "### Combining Models\n",
    "Models can be combined as simply as layers in Keras. Combine your base and dense classifiers.\n",
    "```python \n",
    "# Create a single final model\n",
    "final = models.Sequential()\n",
    "\n",
    "# Conv Base + Flatten + Our Classifier \n",
    "final.add(conv_base)\n",
    "final.add(layers.Flatten())\n",
    "final.add(food)\n",
    "```\n",
    "\n",
    "### References \n",
    "+ [VGG16]"
   ]
  }
 ],
 "metadata": {
  "kernelspec": {
   "display_name": "Python 3",
   "language": "python",
   "name": "python3"
  },
  "language_info": {
   "codemirror_mode": {
    "name": "ipython",
    "version": 3
   },
   "file_extension": ".py",
   "mimetype": "text/x-python",
   "name": "python",
   "nbconvert_exporter": "python",
   "pygments_lexer": "ipython3",
   "version": "3.6.3"
  }
 },
 "nbformat": 4,
 "nbformat_minor": 2
}
